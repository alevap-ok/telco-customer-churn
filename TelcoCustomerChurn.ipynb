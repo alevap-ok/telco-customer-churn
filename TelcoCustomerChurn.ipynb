{
 "cells": [
  {
   "cell_type": "markdown",
   "id": "63ffd9bf-5e41-4be6-b251-27c140d57e01",
   "metadata": {
    "id": "63ffd9bf-5e41-4be6-b251-27c140d57e01"
   },
   "source": [
    "# Telco Customer Churn"
   ]
  },
  {
   "cell_type": "markdown",
   "id": "068cb285-e5ec-47ea-aea2-a4dbd8722be0",
   "metadata": {
    "id": "068cb285-e5ec-47ea-aea2-a4dbd8722be0"
   },
   "source": [
    "# CRISP-DM"
   ]
  },
  {
   "cell_type": "markdown",
   "id": "0a385cd2-3607-4106-804c-e72b5c45e4d4",
   "metadata": {
    "id": "0a385cd2-3607-4106-804c-e72b5c45e4d4"
   },
   "source": [
    "## 1. Business Understanding"
   ]
  },
  {
   "cell_type": "markdown",
   "id": "894232af-6d99-40d3-bf32-00d1798fb5a4",
   "metadata": {},
   "source": [
    "**What is churn rate?**\n",
    "\n",
    "It measures the number of individuals that leave a group over a specific period.\n",
    "\n",
    "\n",
    "**About the data**\n",
    "\n",
    "As pointed out in the [dataset](https://www.kaggle.com/datasets/blastchar/telco-customer-churn), we have information about:\n",
    "* Churn: customers that left within the last month.\n",
    "* The services that each customer has signed up for.\n",
    "* Customer account information: how long have they have been a customer, contract, payment method, paperless billing, monthly charges, and total charges.\n",
    "* Demographic information: gender, age range, and if they have partners and dependents\n",
    "\n",
    "\n",
    "**What do we want to do?**\n",
    "\n",
    "With the analysis, we want to be able to predict **churn** customers."
   ]
  },
  {
   "cell_type": "markdown",
   "id": "e757bfc2-3819-4ebc-b8d2-8ac58b67ab4e",
   "metadata": {
    "id": "e757bfc2-3819-4ebc-b8d2-8ac58b67ab4e"
   },
   "source": [
    "## 2. Data Understanding \n",
    "**EDA**"
   ]
  },
  {
   "cell_type": "code",
   "execution_count": 1,
   "id": "e7c52f4d-555e-43ab-b66a-18d9769d0452",
   "metadata": {
    "executionInfo": {
     "elapsed": 394,
     "status": "ok",
     "timestamp": 1649547981230,
     "user": {
      "displayName": "Alejandra Y. Vargas",
      "userId": "14320969114173749854"
     },
     "user_tz": 240
    },
    "id": "e7c52f4d-555e-43ab-b66a-18d9769d0452"
   },
   "outputs": [],
   "source": [
    "import pandas as pd\n",
    "import numpy as np\n",
    "import matplotlib.pyplot as plt\n",
    "import seaborn as sns\n",
    "import plotly.express as px\n",
    "import plotly.graph_objects as go\n",
    "from plotly.subplots import make_subplots\n",
    "%matplotlib inline\n",
    "from sklearn.pipeline import Pipeline, FeatureUnion\n",
    "from sklearn.preprocessing import scale, StandardScaler, OneHotEncoder\n",
    "from sklearn.compose import ColumnTransformer\n",
    "from sklearn.linear_model import LogisticRegression\n",
    "from sklearn.base import TransformerMixin \n",
    "from sklearn.model_selection import train_test_split\n",
    "from sklearn.metrics import confusion_matrix, classification_report\n",
    "from sklearn.metrics import accuracy_score\n",
    "from sklearn.neural_network import MLPClassifier"
   ]
  },
  {
   "cell_type": "code",
   "execution_count": 2,
   "id": "f2d50cc5-036a-4af3-8aa2-adf71618d780",
   "metadata": {
    "executionInfo": {
     "elapsed": 286,
     "status": "ok",
     "timestamp": 1649547983183,
     "user": {
      "displayName": "Alejandra Y. Vargas",
      "userId": "14320969114173749854"
     },
     "user_tz": 240
    },
    "id": "f2d50cc5-036a-4af3-8aa2-adf71618d780"
   },
   "outputs": [],
   "source": [
    "data_df = pd.read_csv(\"./data/WA_Fn-UseC_-Telco-Customer-Churn.csv\")"
   ]
  },
  {
   "cell_type": "code",
   "execution_count": 3,
   "id": "19ca358e-2b67-445f-b30a-1bd126b99d58",
   "metadata": {},
   "outputs": [
    {
     "data": {
      "text/plain": [
       "(7043, 21)"
      ]
     },
     "execution_count": 3,
     "metadata": {},
     "output_type": "execute_result"
    }
   ],
   "source": [
    "data_df.shape"
   ]
  },
  {
   "cell_type": "code",
   "execution_count": 4,
   "id": "06c74fa2-65d4-49eb-a67e-c3e2533b08a7",
   "metadata": {
    "colab": {
     "base_uri": "https://localhost:8080/",
     "height": 386
    },
    "executionInfo": {
     "elapsed": 4,
     "status": "ok",
     "timestamp": 1649547983632,
     "user": {
      "displayName": "Alejandra Y. Vargas",
      "userId": "14320969114173749854"
     },
     "user_tz": 240
    },
    "id": "06c74fa2-65d4-49eb-a67e-c3e2533b08a7",
    "outputId": "5eabde15-3281-475d-c5bf-61781f6955cc"
   },
   "outputs": [
    {
     "data": {
      "text/html": [
       "<div>\n",
       "<style scoped>\n",
       "    .dataframe tbody tr th:only-of-type {\n",
       "        vertical-align: middle;\n",
       "    }\n",
       "\n",
       "    .dataframe tbody tr th {\n",
       "        vertical-align: top;\n",
       "    }\n",
       "\n",
       "    .dataframe thead th {\n",
       "        text-align: right;\n",
       "    }\n",
       "</style>\n",
       "<table border=\"1\" class=\"dataframe\">\n",
       "  <thead>\n",
       "    <tr style=\"text-align: right;\">\n",
       "      <th></th>\n",
       "      <th>customerID</th>\n",
       "      <th>gender</th>\n",
       "      <th>SeniorCitizen</th>\n",
       "      <th>Partner</th>\n",
       "      <th>Dependents</th>\n",
       "      <th>tenure</th>\n",
       "      <th>PhoneService</th>\n",
       "      <th>MultipleLines</th>\n",
       "      <th>InternetService</th>\n",
       "      <th>OnlineSecurity</th>\n",
       "      <th>...</th>\n",
       "      <th>DeviceProtection</th>\n",
       "      <th>TechSupport</th>\n",
       "      <th>StreamingTV</th>\n",
       "      <th>StreamingMovies</th>\n",
       "      <th>Contract</th>\n",
       "      <th>PaperlessBilling</th>\n",
       "      <th>PaymentMethod</th>\n",
       "      <th>MonthlyCharges</th>\n",
       "      <th>TotalCharges</th>\n",
       "      <th>Churn</th>\n",
       "    </tr>\n",
       "  </thead>\n",
       "  <tbody>\n",
       "    <tr>\n",
       "      <th>0</th>\n",
       "      <td>7590-VHVEG</td>\n",
       "      <td>Female</td>\n",
       "      <td>0</td>\n",
       "      <td>Yes</td>\n",
       "      <td>No</td>\n",
       "      <td>1</td>\n",
       "      <td>No</td>\n",
       "      <td>No phone service</td>\n",
       "      <td>DSL</td>\n",
       "      <td>No</td>\n",
       "      <td>...</td>\n",
       "      <td>No</td>\n",
       "      <td>No</td>\n",
       "      <td>No</td>\n",
       "      <td>No</td>\n",
       "      <td>Month-to-month</td>\n",
       "      <td>Yes</td>\n",
       "      <td>Electronic check</td>\n",
       "      <td>29.85</td>\n",
       "      <td>29.85</td>\n",
       "      <td>No</td>\n",
       "    </tr>\n",
       "    <tr>\n",
       "      <th>1</th>\n",
       "      <td>5575-GNVDE</td>\n",
       "      <td>Male</td>\n",
       "      <td>0</td>\n",
       "      <td>No</td>\n",
       "      <td>No</td>\n",
       "      <td>34</td>\n",
       "      <td>Yes</td>\n",
       "      <td>No</td>\n",
       "      <td>DSL</td>\n",
       "      <td>Yes</td>\n",
       "      <td>...</td>\n",
       "      <td>Yes</td>\n",
       "      <td>No</td>\n",
       "      <td>No</td>\n",
       "      <td>No</td>\n",
       "      <td>One year</td>\n",
       "      <td>No</td>\n",
       "      <td>Mailed check</td>\n",
       "      <td>56.95</td>\n",
       "      <td>1889.5</td>\n",
       "      <td>No</td>\n",
       "    </tr>\n",
       "    <tr>\n",
       "      <th>2</th>\n",
       "      <td>3668-QPYBK</td>\n",
       "      <td>Male</td>\n",
       "      <td>0</td>\n",
       "      <td>No</td>\n",
       "      <td>No</td>\n",
       "      <td>2</td>\n",
       "      <td>Yes</td>\n",
       "      <td>No</td>\n",
       "      <td>DSL</td>\n",
       "      <td>Yes</td>\n",
       "      <td>...</td>\n",
       "      <td>No</td>\n",
       "      <td>No</td>\n",
       "      <td>No</td>\n",
       "      <td>No</td>\n",
       "      <td>Month-to-month</td>\n",
       "      <td>Yes</td>\n",
       "      <td>Mailed check</td>\n",
       "      <td>53.85</td>\n",
       "      <td>108.15</td>\n",
       "      <td>Yes</td>\n",
       "    </tr>\n",
       "    <tr>\n",
       "      <th>3</th>\n",
       "      <td>7795-CFOCW</td>\n",
       "      <td>Male</td>\n",
       "      <td>0</td>\n",
       "      <td>No</td>\n",
       "      <td>No</td>\n",
       "      <td>45</td>\n",
       "      <td>No</td>\n",
       "      <td>No phone service</td>\n",
       "      <td>DSL</td>\n",
       "      <td>Yes</td>\n",
       "      <td>...</td>\n",
       "      <td>Yes</td>\n",
       "      <td>Yes</td>\n",
       "      <td>No</td>\n",
       "      <td>No</td>\n",
       "      <td>One year</td>\n",
       "      <td>No</td>\n",
       "      <td>Bank transfer (automatic)</td>\n",
       "      <td>42.30</td>\n",
       "      <td>1840.75</td>\n",
       "      <td>No</td>\n",
       "    </tr>\n",
       "    <tr>\n",
       "      <th>4</th>\n",
       "      <td>9237-HQITU</td>\n",
       "      <td>Female</td>\n",
       "      <td>0</td>\n",
       "      <td>No</td>\n",
       "      <td>No</td>\n",
       "      <td>2</td>\n",
       "      <td>Yes</td>\n",
       "      <td>No</td>\n",
       "      <td>Fiber optic</td>\n",
       "      <td>No</td>\n",
       "      <td>...</td>\n",
       "      <td>No</td>\n",
       "      <td>No</td>\n",
       "      <td>No</td>\n",
       "      <td>No</td>\n",
       "      <td>Month-to-month</td>\n",
       "      <td>Yes</td>\n",
       "      <td>Electronic check</td>\n",
       "      <td>70.70</td>\n",
       "      <td>151.65</td>\n",
       "      <td>Yes</td>\n",
       "    </tr>\n",
       "  </tbody>\n",
       "</table>\n",
       "<p>5 rows × 21 columns</p>\n",
       "</div>"
      ],
      "text/plain": [
       "   customerID  gender  SeniorCitizen Partner Dependents  tenure PhoneService  \\\n",
       "0  7590-VHVEG  Female              0     Yes         No       1           No   \n",
       "1  5575-GNVDE    Male              0      No         No      34          Yes   \n",
       "2  3668-QPYBK    Male              0      No         No       2          Yes   \n",
       "3  7795-CFOCW    Male              0      No         No      45           No   \n",
       "4  9237-HQITU  Female              0      No         No       2          Yes   \n",
       "\n",
       "      MultipleLines InternetService OnlineSecurity  ... DeviceProtection  \\\n",
       "0  No phone service             DSL             No  ...               No   \n",
       "1                No             DSL            Yes  ...              Yes   \n",
       "2                No             DSL            Yes  ...               No   \n",
       "3  No phone service             DSL            Yes  ...              Yes   \n",
       "4                No     Fiber optic             No  ...               No   \n",
       "\n",
       "  TechSupport StreamingTV StreamingMovies        Contract PaperlessBilling  \\\n",
       "0          No          No              No  Month-to-month              Yes   \n",
       "1          No          No              No        One year               No   \n",
       "2          No          No              No  Month-to-month              Yes   \n",
       "3         Yes          No              No        One year               No   \n",
       "4          No          No              No  Month-to-month              Yes   \n",
       "\n",
       "               PaymentMethod MonthlyCharges  TotalCharges Churn  \n",
       "0           Electronic check          29.85         29.85    No  \n",
       "1               Mailed check          56.95        1889.5    No  \n",
       "2               Mailed check          53.85        108.15   Yes  \n",
       "3  Bank transfer (automatic)          42.30       1840.75    No  \n",
       "4           Electronic check          70.70        151.65   Yes  \n",
       "\n",
       "[5 rows x 21 columns]"
      ]
     },
     "execution_count": 4,
     "metadata": {},
     "output_type": "execute_result"
    }
   ],
   "source": [
    "data_df.head(5)"
   ]
  },
  {
   "cell_type": "code",
   "execution_count": 5,
   "id": "RrsFQJ-FZMgj",
   "metadata": {
    "colab": {
     "base_uri": "https://localhost:8080/"
    },
    "executionInfo": {
     "elapsed": 4,
     "status": "ok",
     "timestamp": 1649547983633,
     "user": {
      "displayName": "Alejandra Y. Vargas",
      "userId": "14320969114173749854"
     },
     "user_tz": 240
    },
    "id": "RrsFQJ-FZMgj",
    "outputId": "19d3b78f-2d99-4c54-f01c-07dc2b1bb109"
   },
   "outputs": [
    {
     "data": {
      "text/plain": [
       "Index(['customerID', 'gender', 'SeniorCitizen', 'Partner', 'Dependents',\n",
       "       'tenure', 'PhoneService', 'MultipleLines', 'InternetService',\n",
       "       'OnlineSecurity', 'OnlineBackup', 'DeviceProtection', 'TechSupport',\n",
       "       'StreamingTV', 'StreamingMovies', 'Contract', 'PaperlessBilling',\n",
       "       'PaymentMethod', 'MonthlyCharges', 'TotalCharges', 'Churn'],\n",
       "      dtype='object')"
      ]
     },
     "execution_count": 5,
     "metadata": {},
     "output_type": "execute_result"
    }
   ],
   "source": [
    "column_names = data_df.columns\n",
    "column_names"
   ]
  },
  {
   "cell_type": "code",
   "execution_count": 6,
   "id": "2e603be9-44b0-4703-a9d8-0c3d0a0c95fc",
   "metadata": {
    "colab": {
     "base_uri": "https://localhost:8080/"
    },
    "executionInfo": {
     "elapsed": 2,
     "status": "ok",
     "timestamp": 1649547983951,
     "user": {
      "displayName": "Alejandra Y. Vargas",
      "userId": "14320969114173749854"
     },
     "user_tz": 240
    },
    "id": "2e603be9-44b0-4703-a9d8-0c3d0a0c95fc",
    "outputId": "19cb649d-52a4-4121-aed2-1786bdb5a41e"
   },
   "outputs": [
    {
     "name": "stdout",
     "output_type": "stream",
     "text": [
      "<class 'pandas.core.frame.DataFrame'>\n",
      "RangeIndex: 7043 entries, 0 to 7042\n",
      "Data columns (total 21 columns):\n",
      " #   Column            Non-Null Count  Dtype  \n",
      "---  ------            --------------  -----  \n",
      " 0   customerID        7043 non-null   object \n",
      " 1   gender            7043 non-null   object \n",
      " 2   SeniorCitizen     7043 non-null   int64  \n",
      " 3   Partner           7043 non-null   object \n",
      " 4   Dependents        7043 non-null   object \n",
      " 5   tenure            7043 non-null   int64  \n",
      " 6   PhoneService      7043 non-null   object \n",
      " 7   MultipleLines     7043 non-null   object \n",
      " 8   InternetService   7043 non-null   object \n",
      " 9   OnlineSecurity    7043 non-null   object \n",
      " 10  OnlineBackup      7043 non-null   object \n",
      " 11  DeviceProtection  7043 non-null   object \n",
      " 12  TechSupport       7043 non-null   object \n",
      " 13  StreamingTV       7043 non-null   object \n",
      " 14  StreamingMovies   7043 non-null   object \n",
      " 15  Contract          7043 non-null   object \n",
      " 16  PaperlessBilling  7043 non-null   object \n",
      " 17  PaymentMethod     7043 non-null   object \n",
      " 18  MonthlyCharges    7043 non-null   float64\n",
      " 19  TotalCharges      7043 non-null   object \n",
      " 20  Churn             7043 non-null   object \n",
      "dtypes: float64(1), int64(2), object(18)\n",
      "memory usage: 1.1+ MB\n"
     ]
    }
   ],
   "source": [
    "data_df.info()"
   ]
  },
  {
   "cell_type": "markdown",
   "id": "68a021f3-74a2-4975-a1bc-0ba600627d94",
   "metadata": {
    "id": "68a021f3-74a2-4975-a1bc-0ba600627d94"
   },
   "source": [
    "* Total charges is object but has numeric values, so we should change it to float64"
   ]
  },
  {
   "cell_type": "markdown",
   "id": "5b788e31-0872-434b-a971-5cb8615549d7",
   "metadata": {
    "id": "5b788e31-0872-434b-a971-5cb8615549d7"
   },
   "source": [
    "#### **Reviewing if TotalCharges has any empty value**"
   ]
  },
  {
   "cell_type": "code",
   "execution_count": 7,
   "id": "6e504116-a548-40a1-954f-6c5093e119cc",
   "metadata": {
    "colab": {
     "base_uri": "https://localhost:8080/"
    },
    "executionInfo": {
     "elapsed": 4,
     "status": "ok",
     "timestamp": 1649547984685,
     "user": {
      "displayName": "Alejandra Y. Vargas",
      "userId": "14320969114173749854"
     },
     "user_tz": 240
    },
    "id": "6e504116-a548-40a1-954f-6c5093e119cc",
    "outputId": "30113fbe-ca71-4b00-92b9-95335776d8e2"
   },
   "outputs": [
    {
     "data": {
      "text/plain": [
       "11"
      ]
     },
     "execution_count": 7,
     "metadata": {},
     "output_type": "execute_result"
    }
   ],
   "source": [
    "data_df[data_df['TotalCharges'] ==  \" \"]['TotalCharges'].count()"
   ]
  },
  {
   "cell_type": "markdown",
   "id": "9bb2c314-b982-4923-b73c-bca4bbd2bc9c",
   "metadata": {},
   "source": [
    "#### **Count unique values of each column**"
   ]
  },
  {
   "cell_type": "code",
   "execution_count": 8,
   "id": "35f04777-9a50-477f-8211-47384a2b912f",
   "metadata": {},
   "outputs": [
    {
     "data": {
      "text/plain": [
       "customerID          7043\n",
       "gender                 2\n",
       "SeniorCitizen          2\n",
       "Partner                2\n",
       "Dependents             2\n",
       "tenure                73\n",
       "PhoneService           2\n",
       "MultipleLines          3\n",
       "InternetService        3\n",
       "OnlineSecurity         3\n",
       "OnlineBackup           3\n",
       "DeviceProtection       3\n",
       "TechSupport            3\n",
       "StreamingTV            3\n",
       "StreamingMovies        3\n",
       "Contract               3\n",
       "PaperlessBilling       2\n",
       "PaymentMethod          4\n",
       "MonthlyCharges      1585\n",
       "TotalCharges        6531\n",
       "Churn                  2\n",
       "dtype: int64"
      ]
     },
     "execution_count": 8,
     "metadata": {},
     "output_type": "execute_result"
    }
   ],
   "source": [
    "data_df.nunique()"
   ]
  },
  {
   "cell_type": "markdown",
   "id": "vYTXlep6fnIp",
   "metadata": {
    "id": "vYTXlep6fnIp"
   },
   "source": [
    "#### **Review unique values of each column**\n"
   ]
  },
  {
   "cell_type": "code",
   "execution_count": 9,
   "id": "8WBCwLwYf-H4",
   "metadata": {
    "colab": {
     "base_uri": "https://localhost:8080/"
    },
    "executionInfo": {
     "elapsed": 379,
     "status": "ok",
     "timestamp": 1649547985062,
     "user": {
      "displayName": "Alejandra Y. Vargas",
      "userId": "14320969114173749854"
     },
     "user_tz": 240
    },
    "id": "8WBCwLwYf-H4",
    "outputId": "60f97ae1-57ea-45f7-b2c4-f601d676c598"
   },
   "outputs": [
    {
     "name": "stdout",
     "output_type": "stream",
     "text": [
      "customerID : ['7590-VHVEG' '5575-GNVDE' '3668-QPYBK' ... '4801-JZAZL' '8361-LTMKD'\n",
      " '3186-AJIEK']\n",
      "\n",
      "\n",
      "gender : ['Female' 'Male']\n",
      "\n",
      "\n",
      "SeniorCitizen : [0 1]\n",
      "\n",
      "\n",
      "Partner : ['Yes' 'No']\n",
      "\n",
      "\n",
      "Dependents : ['No' 'Yes']\n",
      "\n",
      "\n",
      "tenure : [ 1 34  2 45  8 22 10 28 62 13 16 58 49 25 69 52 71 21 12 30 47 72 17 27\n",
      "  5 46 11 70 63 43 15 60 18 66  9  3 31 50 64 56  7 42 35 48 29 65 38 68\n",
      " 32 55 37 36 41  6  4 33 67 23 57 61 14 20 53 40 59 24 44 19 54 51 26  0\n",
      " 39]\n",
      "\n",
      "\n",
      "PhoneService : ['No' 'Yes']\n",
      "\n",
      "\n",
      "MultipleLines : ['No phone service' 'No' 'Yes']\n",
      "\n",
      "\n",
      "InternetService : ['DSL' 'Fiber optic' 'No']\n",
      "\n",
      "\n",
      "OnlineSecurity : ['No' 'Yes' 'No internet service']\n",
      "\n",
      "\n",
      "OnlineBackup : ['Yes' 'No' 'No internet service']\n",
      "\n",
      "\n",
      "DeviceProtection : ['No' 'Yes' 'No internet service']\n",
      "\n",
      "\n",
      "TechSupport : ['No' 'Yes' 'No internet service']\n",
      "\n",
      "\n",
      "StreamingTV : ['No' 'Yes' 'No internet service']\n",
      "\n",
      "\n",
      "StreamingMovies : ['No' 'Yes' 'No internet service']\n",
      "\n",
      "\n",
      "Contract : ['Month-to-month' 'One year' 'Two year']\n",
      "\n",
      "\n",
      "PaperlessBilling : ['Yes' 'No']\n",
      "\n",
      "\n",
      "PaymentMethod : ['Electronic check' 'Mailed check' 'Bank transfer (automatic)'\n",
      " 'Credit card (automatic)']\n",
      "\n",
      "\n",
      "MonthlyCharges : [29.85 56.95 53.85 ... 63.1  44.2  78.7 ]\n",
      "\n",
      "\n",
      "TotalCharges : ['29.85' '1889.5' '108.15' ... '346.45' '306.6' '6844.5']\n",
      "\n",
      "\n",
      "Churn : ['No' 'Yes']\n",
      "\n",
      "\n"
     ]
    }
   ],
   "source": [
    "for name in column_names:\n",
    "  print(name, \":\", data_df[name].unique())\n",
    "  print(\"\\n\")"
   ]
  },
  {
   "cell_type": "markdown",
   "id": "ae016a0e-69b2-4e43-8687-80c830678450",
   "metadata": {},
   "source": [
    "#### **Categorical values**"
   ]
  },
  {
   "cell_type": "code",
   "execution_count": 10,
   "id": "91446aca-5e87-41bd-8d47-dc106bfffe26",
   "metadata": {},
   "outputs": [
    {
     "data": {
      "text/html": [
       "<div>\n",
       "<style scoped>\n",
       "    .dataframe tbody tr th:only-of-type {\n",
       "        vertical-align: middle;\n",
       "    }\n",
       "\n",
       "    .dataframe tbody tr th {\n",
       "        vertical-align: top;\n",
       "    }\n",
       "\n",
       "    .dataframe thead th {\n",
       "        text-align: right;\n",
       "    }\n",
       "</style>\n",
       "<table border=\"1\" class=\"dataframe\">\n",
       "  <thead>\n",
       "    <tr style=\"text-align: right;\">\n",
       "      <th></th>\n",
       "      <th>Partner</th>\n",
       "      <th>Dependents</th>\n",
       "      <th>PhoneService</th>\n",
       "      <th>PaperlessBilling</th>\n",
       "      <th>Churn</th>\n",
       "      <th>gender</th>\n",
       "      <th>MultipleLines</th>\n",
       "      <th>InternetService</th>\n",
       "      <th>OnlineSecurity</th>\n",
       "      <th>OnlineBackup</th>\n",
       "      <th>DeviceProtection</th>\n",
       "      <th>TechSupport</th>\n",
       "      <th>StreamingTV</th>\n",
       "      <th>StreamingMovies</th>\n",
       "      <th>Contract</th>\n",
       "      <th>PaymentMethod</th>\n",
       "      <th>SeniorCitizen</th>\n",
       "    </tr>\n",
       "  </thead>\n",
       "  <tbody>\n",
       "    <tr>\n",
       "      <th>0</th>\n",
       "      <td>Yes</td>\n",
       "      <td>No</td>\n",
       "      <td>No</td>\n",
       "      <td>Yes</td>\n",
       "      <td>No</td>\n",
       "      <td>Female</td>\n",
       "      <td>No phone service</td>\n",
       "      <td>DSL</td>\n",
       "      <td>No</td>\n",
       "      <td>Yes</td>\n",
       "      <td>No</td>\n",
       "      <td>No</td>\n",
       "      <td>No</td>\n",
       "      <td>No</td>\n",
       "      <td>Month-to-month</td>\n",
       "      <td>Electronic check</td>\n",
       "      <td>0</td>\n",
       "    </tr>\n",
       "    <tr>\n",
       "      <th>1</th>\n",
       "      <td>No</td>\n",
       "      <td>No</td>\n",
       "      <td>Yes</td>\n",
       "      <td>No</td>\n",
       "      <td>No</td>\n",
       "      <td>Male</td>\n",
       "      <td>No</td>\n",
       "      <td>DSL</td>\n",
       "      <td>Yes</td>\n",
       "      <td>No</td>\n",
       "      <td>Yes</td>\n",
       "      <td>No</td>\n",
       "      <td>No</td>\n",
       "      <td>No</td>\n",
       "      <td>One year</td>\n",
       "      <td>Mailed check</td>\n",
       "      <td>0</td>\n",
       "    </tr>\n",
       "    <tr>\n",
       "      <th>2</th>\n",
       "      <td>No</td>\n",
       "      <td>No</td>\n",
       "      <td>Yes</td>\n",
       "      <td>Yes</td>\n",
       "      <td>Yes</td>\n",
       "      <td>Male</td>\n",
       "      <td>No</td>\n",
       "      <td>DSL</td>\n",
       "      <td>Yes</td>\n",
       "      <td>Yes</td>\n",
       "      <td>No</td>\n",
       "      <td>No</td>\n",
       "      <td>No</td>\n",
       "      <td>No</td>\n",
       "      <td>Month-to-month</td>\n",
       "      <td>Mailed check</td>\n",
       "      <td>0</td>\n",
       "    </tr>\n",
       "    <tr>\n",
       "      <th>3</th>\n",
       "      <td>No</td>\n",
       "      <td>No</td>\n",
       "      <td>No</td>\n",
       "      <td>No</td>\n",
       "      <td>No</td>\n",
       "      <td>Male</td>\n",
       "      <td>No phone service</td>\n",
       "      <td>DSL</td>\n",
       "      <td>Yes</td>\n",
       "      <td>No</td>\n",
       "      <td>Yes</td>\n",
       "      <td>Yes</td>\n",
       "      <td>No</td>\n",
       "      <td>No</td>\n",
       "      <td>One year</td>\n",
       "      <td>Bank transfer (automatic)</td>\n",
       "      <td>0</td>\n",
       "    </tr>\n",
       "    <tr>\n",
       "      <th>4</th>\n",
       "      <td>No</td>\n",
       "      <td>No</td>\n",
       "      <td>Yes</td>\n",
       "      <td>Yes</td>\n",
       "      <td>Yes</td>\n",
       "      <td>Female</td>\n",
       "      <td>No</td>\n",
       "      <td>Fiber optic</td>\n",
       "      <td>No</td>\n",
       "      <td>No</td>\n",
       "      <td>No</td>\n",
       "      <td>No</td>\n",
       "      <td>No</td>\n",
       "      <td>No</td>\n",
       "      <td>Month-to-month</td>\n",
       "      <td>Electronic check</td>\n",
       "      <td>0</td>\n",
       "    </tr>\n",
       "  </tbody>\n",
       "</table>\n",
       "</div>"
      ],
      "text/plain": [
       "  Partner Dependents PhoneService PaperlessBilling Churn  gender  \\\n",
       "0     Yes         No           No              Yes    No  Female   \n",
       "1      No         No          Yes               No    No    Male   \n",
       "2      No         No          Yes              Yes   Yes    Male   \n",
       "3      No         No           No               No    No    Male   \n",
       "4      No         No          Yes              Yes   Yes  Female   \n",
       "\n",
       "      MultipleLines InternetService OnlineSecurity OnlineBackup  \\\n",
       "0  No phone service             DSL             No          Yes   \n",
       "1                No             DSL            Yes           No   \n",
       "2                No             DSL            Yes          Yes   \n",
       "3  No phone service             DSL            Yes           No   \n",
       "4                No     Fiber optic             No           No   \n",
       "\n",
       "  DeviceProtection TechSupport StreamingTV StreamingMovies        Contract  \\\n",
       "0               No          No          No              No  Month-to-month   \n",
       "1              Yes          No          No              No        One year   \n",
       "2               No          No          No              No  Month-to-month   \n",
       "3              Yes         Yes          No              No        One year   \n",
       "4               No          No          No              No  Month-to-month   \n",
       "\n",
       "               PaymentMethod  SeniorCitizen  \n",
       "0           Electronic check              0  \n",
       "1               Mailed check              0  \n",
       "2               Mailed check              0  \n",
       "3  Bank transfer (automatic)              0  \n",
       "4           Electronic check              0  "
      ]
     },
     "execution_count": 10,
     "metadata": {},
     "output_type": "execute_result"
    }
   ],
   "source": [
    "categorical_names = ['Partner', 'Dependents', 'PhoneService', 'PaperlessBilling', 'Churn', 'gender', \n",
    "                     'MultipleLines', 'InternetService', 'OnlineSecurity', 'OnlineBackup', 'DeviceProtection',\n",
    "                     'TechSupport', 'StreamingTV', 'StreamingMovies', 'Contract', 'PaymentMethod', 'SeniorCitizen']\n",
    "data_df[categorical_names].head(5)"
   ]
  },
  {
   "cell_type": "markdown",
   "id": "cac4bce1-fed8-430b-95ee-695f81fe8452",
   "metadata": {
    "id": "cac4bce1-fed8-430b-95ee-695f81fe8452"
   },
   "source": [
    "#### **Description of the dataframe**"
   ]
  },
  {
   "cell_type": "code",
   "execution_count": 11,
   "id": "951b887b-e939-457e-b968-0a66f8559c30",
   "metadata": {
    "colab": {
     "base_uri": "https://localhost:8080/",
     "height": 300
    },
    "executionInfo": {
     "elapsed": 398,
     "status": "ok",
     "timestamp": 1649547985458,
     "user": {
      "displayName": "Alejandra Y. Vargas",
      "userId": "14320969114173749854"
     },
     "user_tz": 240
    },
    "id": "951b887b-e939-457e-b968-0a66f8559c30",
    "outputId": "9edf629f-4263-4934-9f44-9eafe30a57f0"
   },
   "outputs": [
    {
     "data": {
      "text/html": [
       "<div>\n",
       "<style scoped>\n",
       "    .dataframe tbody tr th:only-of-type {\n",
       "        vertical-align: middle;\n",
       "    }\n",
       "\n",
       "    .dataframe tbody tr th {\n",
       "        vertical-align: top;\n",
       "    }\n",
       "\n",
       "    .dataframe thead th {\n",
       "        text-align: right;\n",
       "    }\n",
       "</style>\n",
       "<table border=\"1\" class=\"dataframe\">\n",
       "  <thead>\n",
       "    <tr style=\"text-align: right;\">\n",
       "      <th></th>\n",
       "      <th>SeniorCitizen</th>\n",
       "      <th>tenure</th>\n",
       "      <th>MonthlyCharges</th>\n",
       "    </tr>\n",
       "  </thead>\n",
       "  <tbody>\n",
       "    <tr>\n",
       "      <th>count</th>\n",
       "      <td>7043.000000</td>\n",
       "      <td>7043.000000</td>\n",
       "      <td>7043.000000</td>\n",
       "    </tr>\n",
       "    <tr>\n",
       "      <th>mean</th>\n",
       "      <td>0.162147</td>\n",
       "      <td>32.371149</td>\n",
       "      <td>64.761692</td>\n",
       "    </tr>\n",
       "    <tr>\n",
       "      <th>std</th>\n",
       "      <td>0.368612</td>\n",
       "      <td>24.559481</td>\n",
       "      <td>30.090047</td>\n",
       "    </tr>\n",
       "    <tr>\n",
       "      <th>min</th>\n",
       "      <td>0.000000</td>\n",
       "      <td>0.000000</td>\n",
       "      <td>18.250000</td>\n",
       "    </tr>\n",
       "    <tr>\n",
       "      <th>25%</th>\n",
       "      <td>0.000000</td>\n",
       "      <td>9.000000</td>\n",
       "      <td>35.500000</td>\n",
       "    </tr>\n",
       "    <tr>\n",
       "      <th>50%</th>\n",
       "      <td>0.000000</td>\n",
       "      <td>29.000000</td>\n",
       "      <td>70.350000</td>\n",
       "    </tr>\n",
       "    <tr>\n",
       "      <th>75%</th>\n",
       "      <td>0.000000</td>\n",
       "      <td>55.000000</td>\n",
       "      <td>89.850000</td>\n",
       "    </tr>\n",
       "    <tr>\n",
       "      <th>max</th>\n",
       "      <td>1.000000</td>\n",
       "      <td>72.000000</td>\n",
       "      <td>118.750000</td>\n",
       "    </tr>\n",
       "  </tbody>\n",
       "</table>\n",
       "</div>"
      ],
      "text/plain": [
       "       SeniorCitizen       tenure  MonthlyCharges\n",
       "count    7043.000000  7043.000000     7043.000000\n",
       "mean        0.162147    32.371149       64.761692\n",
       "std         0.368612    24.559481       30.090047\n",
       "min         0.000000     0.000000       18.250000\n",
       "25%         0.000000     9.000000       35.500000\n",
       "50%         0.000000    29.000000       70.350000\n",
       "75%         0.000000    55.000000       89.850000\n",
       "max         1.000000    72.000000      118.750000"
      ]
     },
     "execution_count": 11,
     "metadata": {},
     "output_type": "execute_result"
    }
   ],
   "source": [
    "data_df.describe()"
   ]
  },
  {
   "cell_type": "markdown",
   "id": "2aa4a121-9246-4b45-8ccd-7c3e79cec33a",
   "metadata": {},
   "source": [
    "#### **Reviewing services**"
   ]
  },
  {
   "cell_type": "code",
   "execution_count": 12,
   "id": "763d324a-2f0a-4a5d-b6fc-cc32d2722ca1",
   "metadata": {},
   "outputs": [],
   "source": [
    "services_names = ['PhoneService', 'MultipleLines', 'InternetService','OnlineSecurity', 'OnlineBackup', 'DeviceProtection', 'TechSupport']"
   ]
  },
  {
   "cell_type": "code",
   "execution_count": 13,
   "id": "9b9919f6-39b5-4fa0-9d9f-51e43c1ac9a2",
   "metadata": {},
   "outputs": [
    {
     "data": {
      "text/html": [
       "<div>\n",
       "<style scoped>\n",
       "    .dataframe tbody tr th:only-of-type {\n",
       "        vertical-align: middle;\n",
       "    }\n",
       "\n",
       "    .dataframe tbody tr th {\n",
       "        vertical-align: top;\n",
       "    }\n",
       "\n",
       "    .dataframe thead th {\n",
       "        text-align: right;\n",
       "    }\n",
       "</style>\n",
       "<table border=\"1\" class=\"dataframe\">\n",
       "  <thead>\n",
       "    <tr style=\"text-align: right;\">\n",
       "      <th></th>\n",
       "      <th>PhoneService</th>\n",
       "      <th>MultipleLines</th>\n",
       "      <th>InternetService</th>\n",
       "      <th>OnlineSecurity</th>\n",
       "      <th>OnlineBackup</th>\n",
       "      <th>DeviceProtection</th>\n",
       "      <th>TechSupport</th>\n",
       "    </tr>\n",
       "  </thead>\n",
       "  <tbody>\n",
       "    <tr>\n",
       "      <th>0</th>\n",
       "      <td>No</td>\n",
       "      <td>No phone service</td>\n",
       "      <td>DSL</td>\n",
       "      <td>No</td>\n",
       "      <td>Yes</td>\n",
       "      <td>No</td>\n",
       "      <td>No</td>\n",
       "    </tr>\n",
       "    <tr>\n",
       "      <th>1</th>\n",
       "      <td>Yes</td>\n",
       "      <td>No</td>\n",
       "      <td>DSL</td>\n",
       "      <td>Yes</td>\n",
       "      <td>No</td>\n",
       "      <td>Yes</td>\n",
       "      <td>No</td>\n",
       "    </tr>\n",
       "    <tr>\n",
       "      <th>2</th>\n",
       "      <td>Yes</td>\n",
       "      <td>No</td>\n",
       "      <td>DSL</td>\n",
       "      <td>Yes</td>\n",
       "      <td>Yes</td>\n",
       "      <td>No</td>\n",
       "      <td>No</td>\n",
       "    </tr>\n",
       "    <tr>\n",
       "      <th>3</th>\n",
       "      <td>No</td>\n",
       "      <td>No phone service</td>\n",
       "      <td>DSL</td>\n",
       "      <td>Yes</td>\n",
       "      <td>No</td>\n",
       "      <td>Yes</td>\n",
       "      <td>Yes</td>\n",
       "    </tr>\n",
       "    <tr>\n",
       "      <th>4</th>\n",
       "      <td>Yes</td>\n",
       "      <td>No</td>\n",
       "      <td>Fiber optic</td>\n",
       "      <td>No</td>\n",
       "      <td>No</td>\n",
       "      <td>No</td>\n",
       "      <td>No</td>\n",
       "    </tr>\n",
       "  </tbody>\n",
       "</table>\n",
       "</div>"
      ],
      "text/plain": [
       "  PhoneService     MultipleLines InternetService OnlineSecurity OnlineBackup  \\\n",
       "0           No  No phone service             DSL             No          Yes   \n",
       "1          Yes                No             DSL            Yes           No   \n",
       "2          Yes                No             DSL            Yes          Yes   \n",
       "3           No  No phone service             DSL            Yes           No   \n",
       "4          Yes                No     Fiber optic             No           No   \n",
       "\n",
       "  DeviceProtection TechSupport  \n",
       "0               No          No  \n",
       "1              Yes          No  \n",
       "2               No          No  \n",
       "3              Yes         Yes  \n",
       "4               No          No  "
      ]
     },
     "execution_count": 13,
     "metadata": {},
     "output_type": "execute_result"
    }
   ],
   "source": [
    "service_df = data_df.loc[:, services_names]\n",
    "service_df.head(5)"
   ]
  },
  {
   "cell_type": "markdown",
   "id": "370271d3-0080-4143-9f46-2e1f03ce535e",
   "metadata": {
    "id": "370271d3-0080-4143-9f46-2e1f03ce535e"
   },
   "source": [
    "### Data Visualization"
   ]
  },
  {
   "cell_type": "markdown",
   "id": "4c59e387-59ee-4f3b-b433-cc0e0537c38b",
   "metadata": {
    "id": "4c59e387-59ee-4f3b-b433-cc0e0537c38b"
   },
   "source": [
    "#### **Churn**"
   ]
  },
  {
   "cell_type": "code",
   "execution_count": 14,
   "id": "4ce75be6-89f5-43c8-ad1d-865d909c1ad1",
   "metadata": {
    "colab": {
     "base_uri": "https://localhost:8080/",
     "height": 265
    },
    "executionInfo": {
     "elapsed": 3,
     "status": "ok",
     "timestamp": 1649547985920,
     "user": {
      "displayName": "Alejandra Y. Vargas",
      "userId": "14320969114173749854"
     },
     "user_tz": 240
    },
    "id": "4ce75be6-89f5-43c8-ad1d-865d909c1ad1",
    "outputId": "d189fc97-fb93-4001-f0cc-ce75b027b37b"
   },
   "outputs": [
    {
     "data": {
      "text/plain": [
       "<AxesSubplot:ylabel='Churn'>"
      ]
     },
     "execution_count": 14,
     "metadata": {},
     "output_type": "execute_result"
    },
    {
     "data": {
      "image/png": "[encoded data removed]",
      "text/plain": [
       "<Figure size 432x288 with 1 Axes>"
      ]
     },
     "metadata": {},
     "output_type": "display_data"
    }
   ],
   "source": [
    "data_df['Churn'].value_counts().plot(kind='pie',autopct='%.2f')"
   ]
  },
  {
   "cell_type": "markdown",
   "id": "-NSfpI7wjrf4",
   "metadata": {
    "id": "-NSfpI7wjrf4"
   },
   "source": [
    "* There is 26.58 churn customers"
   ]
  },
  {
   "cell_type": "markdown",
   "id": "8lXHj4caZshh",
   "metadata": {
    "id": "8lXHj4caZshh"
   },
   "source": [
    "#### **Churn behavior vs tenure**"
   ]
  },
  {
   "cell_type": "code",
   "execution_count": 15,
   "id": "b87b2b25-ae3b-4fb9-886c-7dbb6781ebef",
   "metadata": {
    "colab": {
     "base_uri": "https://localhost:8080/",
     "height": 386
    },
    "executionInfo": {
     "elapsed": 878,
     "status": "ok",
     "timestamp": 1649547989199,
     "user": {
      "displayName": "Alejandra Y. Vargas",
      "userId": "14320969114173749854"
     },
     "user_tz": 240
    },
    "id": "b87b2b25-ae3b-4fb9-886c-7dbb6781ebef",
    "outputId": "f24fa79c-b4ae-45a1-92c6-1cc9caa6e12f"
   },
   "outputs": [
    {
     "data": {
      "text/plain": [
       "<seaborn.axisgrid.FacetGrid at 0x1748eb528b0>"
      ]
     },
     "execution_count": 15,
     "metadata": {},
     "output_type": "execute_result"
    },
    {
     "data": {
      "image/png": "[encoded data removed]",
      "text/plain": [
       "<Figure size 720x360 with 2 Axes>"
      ]
     },
     "metadata": {
      "needs_background": "light"
     },
     "output_type": "display_data"
    }
   ],
   "source": [
    "sns.displot(data=data_df,x='tenure',col='Churn',kde=True)"
   ]
  },
  {
   "cell_type": "markdown",
   "id": "E9rC_DnBnOp3",
   "metadata": {
    "id": "E9rC_DnBnOp3"
   },
   "source": [
    "* Most of the churn customers stayed fewer months with the company."
   ]
  },
  {
   "cell_type": "markdown",
   "id": "d4_QFwVJbfLp",
   "metadata": {
    "id": "d4_QFwVJbfLp"
   },
   "source": [
    "#### **Contracts vs churn behavior**"
   ]
  },
  {
   "cell_type": "code",
   "execution_count": 16,
   "id": "ZlH2L4eJa6A6",
   "metadata": {
    "colab": {
     "base_uri": "https://localhost:8080/",
     "height": 386
    },
    "executionInfo": {
     "elapsed": 708,
     "status": "ok",
     "timestamp": 1649547990198,
     "user": {
      "displayName": "Alejandra Y. Vargas",
      "userId": "14320969114173749854"
     },
     "user_tz": 240
    },
    "id": "ZlH2L4eJa6A6",
    "outputId": "8d3b9ab9-4c90-4ca3-c160-050552575818"
   },
   "outputs": [
    {
     "data": {
      "text/plain": [
       "<seaborn.axisgrid.FacetGrid at 0x1748eb5d550>"
      ]
     },
     "execution_count": 16,
     "metadata": {},
     "output_type": "execute_result"
    },
    {
     "data": {
      "image/png": "[encoded data removed]",
      "text/plain": [
       "<Figure size 1080x360 with 3 Axes>"
      ]
     },
     "metadata": {
      "needs_background": "light"
     },
     "output_type": "display_data"
    }
   ],
   "source": [
    "sns.displot(data=data_df,x='Churn',col='Contract')"
   ]
  },
  {
   "cell_type": "markdown",
   "id": "HTHu0HZzoMbQ",
   "metadata": {
    "id": "HTHu0HZzoMbQ"
   },
   "source": [
    "* Most of the churn customers are the ones with month-to-month contracts."
   ]
  },
  {
   "cell_type": "markdown",
   "id": "8xufsoVSco0Z",
   "metadata": {
    "id": "8xufsoVSco0Z"
   },
   "source": [
    "#### **Contracts vs tenure**"
   ]
  },
  {
   "cell_type": "code",
   "execution_count": 17,
   "id": "1THSqknid3dx",
   "metadata": {
    "colab": {
     "base_uri": "https://localhost:8080/",
     "height": 386
    },
    "executionInfo": {
     "elapsed": 1046,
     "status": "ok",
     "timestamp": 1649547991578,
     "user": {
      "displayName": "Alejandra Y. Vargas",
      "userId": "14320969114173749854"
     },
     "user_tz": 240
    },
    "id": "1THSqknid3dx",
    "outputId": "61d1560a-24d8-4874-fed4-2d81812b2429"
   },
   "outputs": [
    {
     "data": {
      "text/plain": [
       "<seaborn.axisgrid.FacetGrid at 0x174b27daca0>"
      ]
     },
     "execution_count": 17,
     "metadata": {},
     "output_type": "execute_result"
    },
    {
     "data": {
      "image/png": "[encoded data removed]",
      "text/plain": [
       "<Figure size 1080x360 with 3 Axes>"
      ]
     },
     "metadata": {
      "needs_background": "light"
     },
     "output_type": "display_data"
    }
   ],
   "source": [
    "sns.displot(data=data_df, x='tenure', col='Contract')"
   ]
  },
  {
   "cell_type": "markdown",
   "id": "4r7UzXCGoikx",
   "metadata": {
    "id": "4r7UzXCGoikx"
   },
   "source": [
    "* We can see that the most loyal customers have two-year contracts.\n"
   ]
  },
  {
   "cell_type": "markdown",
   "id": "3b4c77f5-a3fb-48ad-9f81-f483dcfb473d",
   "metadata": {},
   "source": [
    "#### **Services vs Churn**"
   ]
  },
  {
   "cell_type": "code",
   "execution_count": 18,
   "id": "fbb064d7-4311-416a-87b4-1b3a2b90f3b9",
   "metadata": {},
   "outputs": [],
   "source": [
    "def plot_bar_graph(df, hue, ax):\n",
    "    for feature, subplot in zip(df.columns, ax.flatten()):\n",
    "        sns.countplot(x=df[feature], ax=subplot, hue=hue)"
   ]
  },
  {
   "cell_type": "code",
   "execution_count": 19,
   "id": "454e0ff3-cf7e-4217-a6f4-e5723e24705d",
   "metadata": {},
   "outputs": [
    {
     "data": {
      "image/png": "[encoded data removed]",
      "text/plain": [
       "<Figure size 1584x1440 with 6 Axes>"
      ]
     },
     "metadata": {
      "needs_background": "light"
     },
     "output_type": "display_data"
    }
   ],
   "source": [
    "services_df = data_df[['PhoneService', 'MultipleLines', 'InternetService','OnlineSecurity', 'OnlineBackup', 'TechSupport']]\n",
    "fig, ax = plt.subplots(nrows=3, ncols=2, figsize=(22,20))\n",
    "plot_bar_graph(services_df, data_df['Churn'], ax)"
   ]
  },
  {
   "cell_type": "markdown",
   "id": "d35aed55-c237-49ca-ad75-2101cbd6b7a4",
   "metadata": {},
   "source": [
    "* Approximately half of the clients that have fiberoptic leave the company.\n",
    "* Customers with no internet service have a lower churn rate.\n",
    "* Customers with no online service are most likely to leave.\n",
    "* Customers with no online backup are most likely to leave.\n",
    "* Approximately half of the people who do not receive technical support leave the company."
   ]
  },
  {
   "cell_type": "markdown",
   "id": "r9BQ54Q7fK8I",
   "metadata": {
    "id": "r9BQ54Q7fK8I"
   },
   "source": [
    "#### **Other variables vs Churn**"
   ]
  },
  {
   "cell_type": "code",
   "execution_count": 20,
   "id": "U7x7_YZIfJ_R",
   "metadata": {
    "colab": {
     "base_uri": "https://localhost:8080/",
     "height": 1000
    },
    "executionInfo": {
     "elapsed": 2832,
     "status": "ok",
     "timestamp": 1649547010301,
     "user": {
      "displayName": "Alejandra Y. Vargas",
      "userId": "14320969114173749854"
     },
     "user_tz": 240
    },
    "id": "U7x7_YZIfJ_R",
    "outputId": "7354dbc3-14a3-4411-9d50-9757934d5954"
   },
   "outputs": [
    {
     "data": {
      "image/png": "[encoded data removed]",
      "text/plain": [
       "<Figure size 1584x1440 with 6 Axes>"
      ]
     },
     "metadata": {
      "needs_background": "light"
     },
     "output_type": "display_data"
    }
   ],
   "source": [
    "fig,ax=plt.subplots(nrows=3, ncols=2, figsize=(22,20))\n",
    "\n",
    "df=data_df[['gender','Partner','Dependents', 'PaymentMethod', 'TechSupport', 'SeniorCitizen']]\n",
    "plot_bar_graph(df, data_df['Churn'], ax)"
   ]
  },
  {
   "cell_type": "markdown",
   "id": "sn5pu0bWlotp",
   "metadata": {
    "id": "sn5pu0bWlotp"
   },
   "source": [
    "* Gender seems not to influence the results.\n",
    "* Customers with no partner are more likely to churn than those who do have.\n",
    "* Customers with no dependents are more likely to churn than those who do have.\n",
    "* Customers who pay the bill through electronic check are more likely to churn.\n",
    "* Approximately half of the clients that are senior citizens leave the company."
   ]
  },
  {
   "cell_type": "markdown",
   "id": "609e3eed-cadb-4b14-95d4-21fb8693812f",
   "metadata": {},
   "source": [
    "#### **Reviewing outliers**"
   ]
  },
  {
   "cell_type": "code",
   "execution_count": 21,
   "id": "78fa9816-af20-496e-8870-28f55b3f27c1",
   "metadata": {},
   "outputs": [
    {
     "data": {
      "text/plain": [
       "['tenure', 'MonthlyCharges']"
      ]
     },
     "execution_count": 21,
     "metadata": {},
     "output_type": "execute_result"
    }
   ],
   "source": [
    "non_categorical_names = set(column_names) - set(categorical_names)\n",
    "non_categorical_names = list(non_categorical_names)\n",
    "non_categorical_names.remove('TotalCharges')\n",
    "non_categorical_names.remove('customerID')\n",
    "non_categorical_names"
   ]
  },
  {
   "cell_type": "code",
   "execution_count": 22,
   "id": "bf031f92-b0aa-47c8-ac0f-11859924218e",
   "metadata": {},
   "outputs": [
    {
     "data": {
      "text/plain": [
       "<AxesSubplot:>"
      ]
     },
     "execution_count": 22,
     "metadata": {},
     "output_type": "execute_result"
    },
    {
     "data": {
      "image/png": "[encoded data removed]",
      "text/plain": [
       "<Figure size 720x360 with 1 Axes>"
      ]
     },
     "metadata": {
      "needs_background": "light"
     },
     "output_type": "display_data"
    }
   ],
   "source": [
    "fig = plt.figure(figsize=(10,5))\n",
    "ax =plt.gca()\n",
    "pd.DataFrame(scale(data_df[non_categorical_names]),columns=non_categorical_names).boxplot(ax=ax)"
   ]
  },
  {
   "cell_type": "code",
   "execution_count": 23,
   "id": "44eaf89c-2ee2-49c6-a557-e1d4a608eebe",
   "metadata": {},
   "outputs": [
    {
     "name": "stderr",
     "output_type": "stream",
     "text": [
      "<ipython-input-23-0e194e4a1731>:3: UserWarning: To output multiple subplots, the figure containing the passed axes is being cleared\n",
      "  data_df[non_categorical_names].hist(ax=ax,bins=20)\n"
     ]
    },
    {
     "data": {
      "text/plain": [
       "array([[<AxesSubplot:title={'center':'tenure'}>,\n",
       "        <AxesSubplot:title={'center':'MonthlyCharges'}>]], dtype=object)"
      ]
     },
     "execution_count": 23,
     "metadata": {},
     "output_type": "execute_result"
    },
    {
     "data": {
      "image/png": "[encoded data removed]",
      "text/plain": [
       "<Figure size 720x360 with 2 Axes>"
      ]
     },
     "metadata": {
      "needs_background": "light"
     },
     "output_type": "display_data"
    }
   ],
   "source": [
    "fig = plt.figure(figsize=(10,5))\n",
    "ax =plt.gca()\n",
    "data_df[non_categorical_names].hist(ax=ax,bins=20)"
   ]
  },
  {
   "cell_type": "markdown",
   "id": "5ad56641-91dc-4676-8271-4cb6c9b5ac60",
   "metadata": {
    "id": "5ad56641-91dc-4676-8271-4cb6c9b5ac60"
   },
   "source": [
    "## 3. Data Preparation"
   ]
  },
  {
   "cell_type": "markdown",
   "id": "UsMzKDyEtZA3",
   "metadata": {
    "id": "UsMzKDyEtZA3"
   },
   "source": [
    "#### **Delete rows that have empty string in TotalCharges**"
   ]
  },
  {
   "cell_type": "code",
   "execution_count": 24,
   "id": "2eb63ef5-5aac-4018-b099-bdda64521ada",
   "metadata": {
    "colab": {
     "base_uri": "https://localhost:8080/"
    },
    "executionInfo": {
     "elapsed": 337,
     "status": "ok",
     "timestamp": 1649547998638,
     "user": {
      "displayName": "Alejandra Y. Vargas",
      "userId": "14320969114173749854"
     },
     "user_tz": 240
    },
    "id": "2eb63ef5-5aac-4018-b099-bdda64521ada",
    "outputId": "45831fe9-7a43-4e41-a240-bd812adcb969"
   },
   "outputs": [
    {
     "data": {
      "text/plain": [
       "(7032, 21)"
      ]
     },
     "execution_count": 24,
     "metadata": {},
     "output_type": "execute_result"
    }
   ],
   "source": [
    "data_df.drop(data_df[data_df.TotalCharges == \" \"].index, inplace = True)\n",
    "data_df.shape"
   ]
  },
  {
   "cell_type": "markdown",
   "id": "ygzNo7IYtcon",
   "metadata": {
    "id": "ygzNo7IYtcon"
   },
   "source": [
    "#### **Update the type of TotalCharges to float**"
   ]
  },
  {
   "cell_type": "code",
   "execution_count": 25,
   "id": "Fg3lUXhrtk9g",
   "metadata": {
    "colab": {
     "base_uri": "https://localhost:8080/"
    },
    "executionInfo": {
     "elapsed": 432,
     "status": "ok",
     "timestamp": 1649548001353,
     "user": {
      "displayName": "Alejandra Y. Vargas",
      "userId": "14320969114173749854"
     },
     "user_tz": 240
    },
    "id": "Fg3lUXhrtk9g",
    "outputId": "fa0857e7-ae97-442b-cc54-96edcf0e0ff4"
   },
   "outputs": [
    {
     "name": "stdout",
     "output_type": "stream",
     "text": [
      "<class 'pandas.core.frame.DataFrame'>\n",
      "Int64Index: 7032 entries, 0 to 7042\n",
      "Data columns (total 21 columns):\n",
      " #   Column            Non-Null Count  Dtype  \n",
      "---  ------            --------------  -----  \n",
      " 0   customerID        7032 non-null   object \n",
      " 1   gender            7032 non-null   object \n",
      " 2   SeniorCitizen     7032 non-null   int64  \n",
      " 3   Partner           7032 non-null   object \n",
      " 4   Dependents        7032 non-null   object \n",
      " 5   tenure            7032 non-null   int64  \n",
      " 6   PhoneService      7032 non-null   object \n",
      " 7   MultipleLines     7032 non-null   object \n",
      " 8   InternetService   7032 non-null   object \n",
      " 9   OnlineSecurity    7032 non-null   object \n",
      " 10  OnlineBackup      7032 non-null   object \n",
      " 11  DeviceProtection  7032 non-null   object \n",
      " 12  TechSupport       7032 non-null   object \n",
      " 13  StreamingTV       7032 non-null   object \n",
      " 14  StreamingMovies   7032 non-null   object \n",
      " 15  Contract          7032 non-null   object \n",
      " 16  PaperlessBilling  7032 non-null   object \n",
      " 17  PaymentMethod     7032 non-null   object \n",
      " 18  MonthlyCharges    7032 non-null   float64\n",
      " 19  TotalCharges      7032 non-null   float32\n",
      " 20  Churn             7032 non-null   object \n",
      "dtypes: float32(1), float64(1), int64(2), object(17)\n",
      "memory usage: 1.2+ MB\n"
     ]
    }
   ],
   "source": [
    "data_df[\"TotalCharges\"] = pd.to_numeric(data_df[\"TotalCharges\"], downcast=\"float\")\n",
    "data_df.info()"
   ]
  },
  {
   "cell_type": "markdown",
   "id": "01dc56be-f84d-4545-8e19-7950f667f870",
   "metadata": {},
   "source": [
    "#### **Instead of having services separately, let's add how many services each customer has**"
   ]
  },
  {
   "cell_type": "code",
   "execution_count": 26,
   "id": "dd25aa7a-a658-4841-9a80-e3e2ae114874",
   "metadata": {},
   "outputs": [
    {
     "data": {
      "text/html": [
       "<div>\n",
       "<style scoped>\n",
       "    .dataframe tbody tr th:only-of-type {\n",
       "        vertical-align: middle;\n",
       "    }\n",
       "\n",
       "    .dataframe tbody tr th {\n",
       "        vertical-align: top;\n",
       "    }\n",
       "\n",
       "    .dataframe thead th {\n",
       "        text-align: right;\n",
       "    }\n",
       "</style>\n",
       "<table border=\"1\" class=\"dataframe\">\n",
       "  <thead>\n",
       "    <tr style=\"text-align: right;\">\n",
       "      <th></th>\n",
       "      <th>PhoneService</th>\n",
       "      <th>MultipleLines</th>\n",
       "      <th>InternetService</th>\n",
       "      <th>OnlineSecurity</th>\n",
       "      <th>OnlineBackup</th>\n",
       "      <th>DeviceProtection</th>\n",
       "      <th>TechSupport</th>\n",
       "    </tr>\n",
       "  </thead>\n",
       "  <tbody>\n",
       "    <tr>\n",
       "      <th>0</th>\n",
       "      <td>0</td>\n",
       "      <td>0</td>\n",
       "      <td>1</td>\n",
       "      <td>0</td>\n",
       "      <td>1</td>\n",
       "      <td>0</td>\n",
       "      <td>0</td>\n",
       "    </tr>\n",
       "    <tr>\n",
       "      <th>1</th>\n",
       "      <td>1</td>\n",
       "      <td>0</td>\n",
       "      <td>1</td>\n",
       "      <td>1</td>\n",
       "      <td>0</td>\n",
       "      <td>1</td>\n",
       "      <td>0</td>\n",
       "    </tr>\n",
       "    <tr>\n",
       "      <th>2</th>\n",
       "      <td>1</td>\n",
       "      <td>0</td>\n",
       "      <td>1</td>\n",
       "      <td>1</td>\n",
       "      <td>1</td>\n",
       "      <td>0</td>\n",
       "      <td>0</td>\n",
       "    </tr>\n",
       "    <tr>\n",
       "      <th>3</th>\n",
       "      <td>0</td>\n",
       "      <td>0</td>\n",
       "      <td>1</td>\n",
       "      <td>1</td>\n",
       "      <td>0</td>\n",
       "      <td>1</td>\n",
       "      <td>1</td>\n",
       "    </tr>\n",
       "    <tr>\n",
       "      <th>4</th>\n",
       "      <td>1</td>\n",
       "      <td>0</td>\n",
       "      <td>1</td>\n",
       "      <td>0</td>\n",
       "      <td>0</td>\n",
       "      <td>0</td>\n",
       "      <td>0</td>\n",
       "    </tr>\n",
       "  </tbody>\n",
       "</table>\n",
       "</div>"
      ],
      "text/plain": [
       "   PhoneService  MultipleLines  InternetService  OnlineSecurity  OnlineBackup  \\\n",
       "0             0              0                1               0             1   \n",
       "1             1              0                1               1             0   \n",
       "2             1              0                1               1             1   \n",
       "3             0              0                1               1             0   \n",
       "4             1              0                1               0             0   \n",
       "\n",
       "   DeviceProtection  TechSupport  \n",
       "0                 0            0  \n",
       "1                 1            0  \n",
       "2                 0            0  \n",
       "3                 1            1  \n",
       "4                 0            0  "
      ]
     },
     "execution_count": 26,
     "metadata": {},
     "output_type": "execute_result"
    }
   ],
   "source": [
    "service_df['PhoneService'] = service_df['PhoneService'].map({'No':0, 'Yes':1})\n",
    "service_df['MultipleLines'] = service_df['MultipleLines'].map({'No':0, 'Yes':1, 'No phone service':0})\n",
    "service_df['InternetService'] = service_df['InternetService'].map({'No':0,'DSL':1, 'Fiber optic':1})\n",
    "service_df['OnlineSecurity'] = service_df['OnlineSecurity'].map({'No':0, 'Yes':1, 'No internet service':0})\n",
    "service_df['OnlineBackup'] = service_df['OnlineBackup'].map({'No':0,'Yes':1, 'No internet service':0})\n",
    "service_df['DeviceProtection'] = service_df['DeviceProtection'].map({'No':0, 'Yes':1,'No internet service':0})\n",
    "service_df['TechSupport'] = service_df['TechSupport'].map({'No':0, 'Yes':1, 'No internet service':0})\n",
    "service_df.head(5)"
   ]
  },
  {
   "cell_type": "code",
   "execution_count": 27,
   "id": "32053631-6e72-434e-b0c1-9b5449308af6",
   "metadata": {},
   "outputs": [],
   "source": [
    "data_df['TotalService'] = service_df.sum(axis=1)"
   ]
  },
  {
   "cell_type": "code",
   "execution_count": 28,
   "id": "add37753-60c5-4f48-9b53-d44cdc580739",
   "metadata": {},
   "outputs": [
    {
     "data": {
      "text/html": [
       "<div>\n",
       "<style scoped>\n",
       "    .dataframe tbody tr th:only-of-type {\n",
       "        vertical-align: middle;\n",
       "    }\n",
       "\n",
       "    .dataframe tbody tr th {\n",
       "        vertical-align: top;\n",
       "    }\n",
       "\n",
       "    .dataframe thead th {\n",
       "        text-align: right;\n",
       "    }\n",
       "</style>\n",
       "<table border=\"1\" class=\"dataframe\">\n",
       "  <thead>\n",
       "    <tr style=\"text-align: right;\">\n",
       "      <th></th>\n",
       "      <th>customerID</th>\n",
       "      <th>gender</th>\n",
       "      <th>SeniorCitizen</th>\n",
       "      <th>Partner</th>\n",
       "      <th>Dependents</th>\n",
       "      <th>tenure</th>\n",
       "      <th>PhoneService</th>\n",
       "      <th>MultipleLines</th>\n",
       "      <th>InternetService</th>\n",
       "      <th>OnlineSecurity</th>\n",
       "      <th>...</th>\n",
       "      <th>TechSupport</th>\n",
       "      <th>StreamingTV</th>\n",
       "      <th>StreamingMovies</th>\n",
       "      <th>Contract</th>\n",
       "      <th>PaperlessBilling</th>\n",
       "      <th>PaymentMethod</th>\n",
       "      <th>MonthlyCharges</th>\n",
       "      <th>TotalCharges</th>\n",
       "      <th>Churn</th>\n",
       "      <th>TotalService</th>\n",
       "    </tr>\n",
       "  </thead>\n",
       "  <tbody>\n",
       "    <tr>\n",
       "      <th>0</th>\n",
       "      <td>7590-VHVEG</td>\n",
       "      <td>Female</td>\n",
       "      <td>0</td>\n",
       "      <td>Yes</td>\n",
       "      <td>No</td>\n",
       "      <td>1</td>\n",
       "      <td>No</td>\n",
       "      <td>No phone service</td>\n",
       "      <td>DSL</td>\n",
       "      <td>No</td>\n",
       "      <td>...</td>\n",
       "      <td>No</td>\n",
       "      <td>No</td>\n",
       "      <td>No</td>\n",
       "      <td>Month-to-month</td>\n",
       "      <td>Yes</td>\n",
       "      <td>Electronic check</td>\n",
       "      <td>29.85</td>\n",
       "      <td>29.850000</td>\n",
       "      <td>No</td>\n",
       "      <td>2</td>\n",
       "    </tr>\n",
       "    <tr>\n",
       "      <th>1</th>\n",
       "      <td>5575-GNVDE</td>\n",
       "      <td>Male</td>\n",
       "      <td>0</td>\n",
       "      <td>No</td>\n",
       "      <td>No</td>\n",
       "      <td>34</td>\n",
       "      <td>Yes</td>\n",
       "      <td>No</td>\n",
       "      <td>DSL</td>\n",
       "      <td>Yes</td>\n",
       "      <td>...</td>\n",
       "      <td>No</td>\n",
       "      <td>No</td>\n",
       "      <td>No</td>\n",
       "      <td>One year</td>\n",
       "      <td>No</td>\n",
       "      <td>Mailed check</td>\n",
       "      <td>56.95</td>\n",
       "      <td>1889.500000</td>\n",
       "      <td>No</td>\n",
       "      <td>4</td>\n",
       "    </tr>\n",
       "    <tr>\n",
       "      <th>2</th>\n",
       "      <td>3668-QPYBK</td>\n",
       "      <td>Male</td>\n",
       "      <td>0</td>\n",
       "      <td>No</td>\n",
       "      <td>No</td>\n",
       "      <td>2</td>\n",
       "      <td>Yes</td>\n",
       "      <td>No</td>\n",
       "      <td>DSL</td>\n",
       "      <td>Yes</td>\n",
       "      <td>...</td>\n",
       "      <td>No</td>\n",
       "      <td>No</td>\n",
       "      <td>No</td>\n",
       "      <td>Month-to-month</td>\n",
       "      <td>Yes</td>\n",
       "      <td>Mailed check</td>\n",
       "      <td>53.85</td>\n",
       "      <td>108.150002</td>\n",
       "      <td>Yes</td>\n",
       "      <td>4</td>\n",
       "    </tr>\n",
       "    <tr>\n",
       "      <th>3</th>\n",
       "      <td>7795-CFOCW</td>\n",
       "      <td>Male</td>\n",
       "      <td>0</td>\n",
       "      <td>No</td>\n",
       "      <td>No</td>\n",
       "      <td>45</td>\n",
       "      <td>No</td>\n",
       "      <td>No phone service</td>\n",
       "      <td>DSL</td>\n",
       "      <td>Yes</td>\n",
       "      <td>...</td>\n",
       "      <td>Yes</td>\n",
       "      <td>No</td>\n",
       "      <td>No</td>\n",
       "      <td>One year</td>\n",
       "      <td>No</td>\n",
       "      <td>Bank transfer (automatic)</td>\n",
       "      <td>42.30</td>\n",
       "      <td>1840.750000</td>\n",
       "      <td>No</td>\n",
       "      <td>4</td>\n",
       "    </tr>\n",
       "    <tr>\n",
       "      <th>4</th>\n",
       "      <td>9237-HQITU</td>\n",
       "      <td>Female</td>\n",
       "      <td>0</td>\n",
       "      <td>No</td>\n",
       "      <td>No</td>\n",
       "      <td>2</td>\n",
       "      <td>Yes</td>\n",
       "      <td>No</td>\n",
       "      <td>Fiber optic</td>\n",
       "      <td>No</td>\n",
       "      <td>...</td>\n",
       "      <td>No</td>\n",
       "      <td>No</td>\n",
       "      <td>No</td>\n",
       "      <td>Month-to-month</td>\n",
       "      <td>Yes</td>\n",
       "      <td>Electronic check</td>\n",
       "      <td>70.70</td>\n",
       "      <td>151.649994</td>\n",
       "      <td>Yes</td>\n",
       "      <td>2</td>\n",
       "    </tr>\n",
       "  </tbody>\n",
       "</table>\n",
       "<p>5 rows × 22 columns</p>\n",
       "</div>"
      ],
      "text/plain": [
       "   customerID  gender  SeniorCitizen Partner Dependents  tenure PhoneService  \\\n",
       "0  7590-VHVEG  Female              0     Yes         No       1           No   \n",
       "1  5575-GNVDE    Male              0      No         No      34          Yes   \n",
       "2  3668-QPYBK    Male              0      No         No       2          Yes   \n",
       "3  7795-CFOCW    Male              0      No         No      45           No   \n",
       "4  9237-HQITU  Female              0      No         No       2          Yes   \n",
       "\n",
       "      MultipleLines InternetService OnlineSecurity  ... TechSupport  \\\n",
       "0  No phone service             DSL             No  ...          No   \n",
       "1                No             DSL            Yes  ...          No   \n",
       "2                No             DSL            Yes  ...          No   \n",
       "3  No phone service             DSL            Yes  ...         Yes   \n",
       "4                No     Fiber optic             No  ...          No   \n",
       "\n",
       "  StreamingTV StreamingMovies        Contract PaperlessBilling  \\\n",
       "0          No              No  Month-to-month              Yes   \n",
       "1          No              No        One year               No   \n",
       "2          No              No  Month-to-month              Yes   \n",
       "3          No              No        One year               No   \n",
       "4          No              No  Month-to-month              Yes   \n",
       "\n",
       "               PaymentMethod MonthlyCharges TotalCharges  Churn  TotalService  \n",
       "0           Electronic check          29.85    29.850000     No             2  \n",
       "1               Mailed check          56.95  1889.500000     No             4  \n",
       "2               Mailed check          53.85   108.150002    Yes             4  \n",
       "3  Bank transfer (automatic)          42.30  1840.750000     No             4  \n",
       "4           Electronic check          70.70   151.649994    Yes             2  \n",
       "\n",
       "[5 rows x 22 columns]"
      ]
     },
     "execution_count": 28,
     "metadata": {},
     "output_type": "execute_result"
    }
   ],
   "source": [
    "data_df.head(5)"
   ]
  },
  {
   "cell_type": "markdown",
   "id": "7b7dc998-6bf5-4e43-9a32-173b6e7db1d8",
   "metadata": {},
   "source": [
    "#### **Now that we have the TotalService, let's delete the other columns**"
   ]
  },
  {
   "cell_type": "code",
   "execution_count": 29,
   "id": "b6db87e2-b1f6-462e-9105-df3219397b12",
   "metadata": {},
   "outputs": [
    {
     "data": {
      "text/html": [
       "<div>\n",
       "<style scoped>\n",
       "    .dataframe tbody tr th:only-of-type {\n",
       "        vertical-align: middle;\n",
       "    }\n",
       "\n",
       "    .dataframe tbody tr th {\n",
       "        vertical-align: top;\n",
       "    }\n",
       "\n",
       "    .dataframe thead th {\n",
       "        text-align: right;\n",
       "    }\n",
       "</style>\n",
       "<table border=\"1\" class=\"dataframe\">\n",
       "  <thead>\n",
       "    <tr style=\"text-align: right;\">\n",
       "      <th></th>\n",
       "      <th>customerID</th>\n",
       "      <th>gender</th>\n",
       "      <th>SeniorCitizen</th>\n",
       "      <th>Partner</th>\n",
       "      <th>Dependents</th>\n",
       "      <th>tenure</th>\n",
       "      <th>StreamingTV</th>\n",
       "      <th>StreamingMovies</th>\n",
       "      <th>Contract</th>\n",
       "      <th>PaperlessBilling</th>\n",
       "      <th>PaymentMethod</th>\n",
       "      <th>MonthlyCharges</th>\n",
       "      <th>TotalCharges</th>\n",
       "      <th>Churn</th>\n",
       "      <th>TotalService</th>\n",
       "    </tr>\n",
       "  </thead>\n",
       "  <tbody>\n",
       "    <tr>\n",
       "      <th>0</th>\n",
       "      <td>7590-VHVEG</td>\n",
       "      <td>Female</td>\n",
       "      <td>0</td>\n",
       "      <td>Yes</td>\n",
       "      <td>No</td>\n",
       "      <td>1</td>\n",
       "      <td>No</td>\n",
       "      <td>No</td>\n",
       "      <td>Month-to-month</td>\n",
       "      <td>Yes</td>\n",
       "      <td>Electronic check</td>\n",
       "      <td>29.85</td>\n",
       "      <td>29.850000</td>\n",
       "      <td>No</td>\n",
       "      <td>2</td>\n",
       "    </tr>\n",
       "    <tr>\n",
       "      <th>1</th>\n",
       "      <td>5575-GNVDE</td>\n",
       "      <td>Male</td>\n",
       "      <td>0</td>\n",
       "      <td>No</td>\n",
       "      <td>No</td>\n",
       "      <td>34</td>\n",
       "      <td>No</td>\n",
       "      <td>No</td>\n",
       "      <td>One year</td>\n",
       "      <td>No</td>\n",
       "      <td>Mailed check</td>\n",
       "      <td>56.95</td>\n",
       "      <td>1889.500000</td>\n",
       "      <td>No</td>\n",
       "      <td>4</td>\n",
       "    </tr>\n",
       "    <tr>\n",
       "      <th>2</th>\n",
       "      <td>3668-QPYBK</td>\n",
       "      <td>Male</td>\n",
       "      <td>0</td>\n",
       "      <td>No</td>\n",
       "      <td>No</td>\n",
       "      <td>2</td>\n",
       "      <td>No</td>\n",
       "      <td>No</td>\n",
       "      <td>Month-to-month</td>\n",
       "      <td>Yes</td>\n",
       "      <td>Mailed check</td>\n",
       "      <td>53.85</td>\n",
       "      <td>108.150002</td>\n",
       "      <td>Yes</td>\n",
       "      <td>4</td>\n",
       "    </tr>\n",
       "    <tr>\n",
       "      <th>3</th>\n",
       "      <td>7795-CFOCW</td>\n",
       "      <td>Male</td>\n",
       "      <td>0</td>\n",
       "      <td>No</td>\n",
       "      <td>No</td>\n",
       "      <td>45</td>\n",
       "      <td>No</td>\n",
       "      <td>No</td>\n",
       "      <td>One year</td>\n",
       "      <td>No</td>\n",
       "      <td>Bank transfer (automatic)</td>\n",
       "      <td>42.30</td>\n",
       "      <td>1840.750000</td>\n",
       "      <td>No</td>\n",
       "      <td>4</td>\n",
       "    </tr>\n",
       "    <tr>\n",
       "      <th>4</th>\n",
       "      <td>9237-HQITU</td>\n",
       "      <td>Female</td>\n",
       "      <td>0</td>\n",
       "      <td>No</td>\n",
       "      <td>No</td>\n",
       "      <td>2</td>\n",
       "      <td>No</td>\n",
       "      <td>No</td>\n",
       "      <td>Month-to-month</td>\n",
       "      <td>Yes</td>\n",
       "      <td>Electronic check</td>\n",
       "      <td>70.70</td>\n",
       "      <td>151.649994</td>\n",
       "      <td>Yes</td>\n",
       "      <td>2</td>\n",
       "    </tr>\n",
       "  </tbody>\n",
       "</table>\n",
       "</div>"
      ],
      "text/plain": [
       "   customerID  gender  SeniorCitizen Partner Dependents  tenure StreamingTV  \\\n",
       "0  7590-VHVEG  Female              0     Yes         No       1          No   \n",
       "1  5575-GNVDE    Male              0      No         No      34          No   \n",
       "2  3668-QPYBK    Male              0      No         No       2          No   \n",
       "3  7795-CFOCW    Male              0      No         No      45          No   \n",
       "4  9237-HQITU  Female              0      No         No       2          No   \n",
       "\n",
       "  StreamingMovies        Contract PaperlessBilling              PaymentMethod  \\\n",
       "0              No  Month-to-month              Yes           Electronic check   \n",
       "1              No        One year               No               Mailed check   \n",
       "2              No  Month-to-month              Yes               Mailed check   \n",
       "3              No        One year               No  Bank transfer (automatic)   \n",
       "4              No  Month-to-month              Yes           Electronic check   \n",
       "\n",
       "   MonthlyCharges  TotalCharges Churn  TotalService  \n",
       "0           29.85     29.850000    No             2  \n",
       "1           56.95   1889.500000    No             4  \n",
       "2           53.85    108.150002   Yes             4  \n",
       "3           42.30   1840.750000    No             4  \n",
       "4           70.70    151.649994   Yes             2  "
      ]
     },
     "execution_count": 29,
     "metadata": {},
     "output_type": "execute_result"
    }
   ],
   "source": [
    "data_df.drop(services_names, axis = 1, inplace = True)\n",
    "data_df.head(5)"
   ]
  },
  {
   "cell_type": "code",
   "execution_count": 30,
   "id": "b34a3a3f-79e0-47c3-be21-83b72cbdc267",
   "metadata": {},
   "outputs": [],
   "source": [
    "for service in services_names:\n",
    "    categorical_names.remove(service)"
   ]
  },
  {
   "cell_type": "markdown",
   "id": "d7f7b274-2cb2-46d3-9992-56cfda5ecacc",
   "metadata": {},
   "source": [
    "#### **We will delete gender because, as it was seen in the data understanding, it did not affect the results.**"
   ]
  },
  {
   "cell_type": "code",
   "execution_count": 31,
   "id": "511989d5-ba8f-4dee-956d-25339d9a47b7",
   "metadata": {},
   "outputs": [
    {
     "data": {
      "text/html": [
       "<div>\n",
       "<style scoped>\n",
       "    .dataframe tbody tr th:only-of-type {\n",
       "        vertical-align: middle;\n",
       "    }\n",
       "\n",
       "    .dataframe tbody tr th {\n",
       "        vertical-align: top;\n",
       "    }\n",
       "\n",
       "    .dataframe thead th {\n",
       "        text-align: right;\n",
       "    }\n",
       "</style>\n",
       "<table border=\"1\" class=\"dataframe\">\n",
       "  <thead>\n",
       "    <tr style=\"text-align: right;\">\n",
       "      <th></th>\n",
       "      <th>customerID</th>\n",
       "      <th>SeniorCitizen</th>\n",
       "      <th>Partner</th>\n",
       "      <th>Dependents</th>\n",
       "      <th>tenure</th>\n",
       "      <th>StreamingTV</th>\n",
       "      <th>StreamingMovies</th>\n",
       "      <th>Contract</th>\n",
       "      <th>PaperlessBilling</th>\n",
       "      <th>PaymentMethod</th>\n",
       "      <th>MonthlyCharges</th>\n",
       "      <th>TotalCharges</th>\n",
       "      <th>Churn</th>\n",
       "      <th>TotalService</th>\n",
       "    </tr>\n",
       "  </thead>\n",
       "  <tbody>\n",
       "    <tr>\n",
       "      <th>0</th>\n",
       "      <td>7590-VHVEG</td>\n",
       "      <td>0</td>\n",
       "      <td>Yes</td>\n",
       "      <td>No</td>\n",
       "      <td>1</td>\n",
       "      <td>No</td>\n",
       "      <td>No</td>\n",
       "      <td>Month-to-month</td>\n",
       "      <td>Yes</td>\n",
       "      <td>Electronic check</td>\n",
       "      <td>29.85</td>\n",
       "      <td>29.850000</td>\n",
       "      <td>No</td>\n",
       "      <td>2</td>\n",
       "    </tr>\n",
       "    <tr>\n",
       "      <th>1</th>\n",
       "      <td>5575-GNVDE</td>\n",
       "      <td>0</td>\n",
       "      <td>No</td>\n",
       "      <td>No</td>\n",
       "      <td>34</td>\n",
       "      <td>No</td>\n",
       "      <td>No</td>\n",
       "      <td>One year</td>\n",
       "      <td>No</td>\n",
       "      <td>Mailed check</td>\n",
       "      <td>56.95</td>\n",
       "      <td>1889.500000</td>\n",
       "      <td>No</td>\n",
       "      <td>4</td>\n",
       "    </tr>\n",
       "    <tr>\n",
       "      <th>2</th>\n",
       "      <td>3668-QPYBK</td>\n",
       "      <td>0</td>\n",
       "      <td>No</td>\n",
       "      <td>No</td>\n",
       "      <td>2</td>\n",
       "      <td>No</td>\n",
       "      <td>No</td>\n",
       "      <td>Month-to-month</td>\n",
       "      <td>Yes</td>\n",
       "      <td>Mailed check</td>\n",
       "      <td>53.85</td>\n",
       "      <td>108.150002</td>\n",
       "      <td>Yes</td>\n",
       "      <td>4</td>\n",
       "    </tr>\n",
       "    <tr>\n",
       "      <th>3</th>\n",
       "      <td>7795-CFOCW</td>\n",
       "      <td>0</td>\n",
       "      <td>No</td>\n",
       "      <td>No</td>\n",
       "      <td>45</td>\n",
       "      <td>No</td>\n",
       "      <td>No</td>\n",
       "      <td>One year</td>\n",
       "      <td>No</td>\n",
       "      <td>Bank transfer (automatic)</td>\n",
       "      <td>42.30</td>\n",
       "      <td>1840.750000</td>\n",
       "      <td>No</td>\n",
       "      <td>4</td>\n",
       "    </tr>\n",
       "    <tr>\n",
       "      <th>4</th>\n",
       "      <td>9237-HQITU</td>\n",
       "      <td>0</td>\n",
       "      <td>No</td>\n",
       "      <td>No</td>\n",
       "      <td>2</td>\n",
       "      <td>No</td>\n",
       "      <td>No</td>\n",
       "      <td>Month-to-month</td>\n",
       "      <td>Yes</td>\n",
       "      <td>Electronic check</td>\n",
       "      <td>70.70</td>\n",
       "      <td>151.649994</td>\n",
       "      <td>Yes</td>\n",
       "      <td>2</td>\n",
       "    </tr>\n",
       "  </tbody>\n",
       "</table>\n",
       "</div>"
      ],
      "text/plain": [
       "   customerID  SeniorCitizen Partner Dependents  tenure StreamingTV  \\\n",
       "0  7590-VHVEG              0     Yes         No       1          No   \n",
       "1  5575-GNVDE              0      No         No      34          No   \n",
       "2  3668-QPYBK              0      No         No       2          No   \n",
       "3  7795-CFOCW              0      No         No      45          No   \n",
       "4  9237-HQITU              0      No         No       2          No   \n",
       "\n",
       "  StreamingMovies        Contract PaperlessBilling              PaymentMethod  \\\n",
       "0              No  Month-to-month              Yes           Electronic check   \n",
       "1              No        One year               No               Mailed check   \n",
       "2              No  Month-to-month              Yes               Mailed check   \n",
       "3              No        One year               No  Bank transfer (automatic)   \n",
       "4              No  Month-to-month              Yes           Electronic check   \n",
       "\n",
       "   MonthlyCharges  TotalCharges Churn  TotalService  \n",
       "0           29.85     29.850000    No             2  \n",
       "1           56.95   1889.500000    No             4  \n",
       "2           53.85    108.150002   Yes             4  \n",
       "3           42.30   1840.750000    No             4  \n",
       "4           70.70    151.649994   Yes             2  "
      ]
     },
     "execution_count": 31,
     "metadata": {},
     "output_type": "execute_result"
    }
   ],
   "source": [
    "data_df = data_df.drop('gender', axis=1)\n",
    "data_df.head(5)"
   ]
  },
  {
   "cell_type": "code",
   "execution_count": 32,
   "id": "4a6ca8e7-ff68-460a-add9-c580760fb251",
   "metadata": {},
   "outputs": [],
   "source": [
    "categorical_names.remove('gender')"
   ]
  },
  {
   "cell_type": "markdown",
   "id": "f43091e8-c7df-4d8b-8eac-310b56beecfb",
   "metadata": {},
   "source": [
    "#### **Deleting customerID**"
   ]
  },
  {
   "cell_type": "code",
   "execution_count": 33,
   "id": "-l-GU7VMuu8n",
   "metadata": {
    "colab": {
     "base_uri": "https://localhost:8080/"
    },
    "executionInfo": {
     "elapsed": 3,
     "status": "ok",
     "timestamp": 1649548167177,
     "user": {
      "displayName": "Alejandra Y. Vargas",
      "userId": "14320969114173749854"
     },
     "user_tz": 240
    },
    "id": "-l-GU7VMuu8n",
    "outputId": "aabc09c2-17fe-4521-f794-b7a6a20b203f"
   },
   "outputs": [
    {
     "data": {
      "text/html": [
       "<div>\n",
       "<style scoped>\n",
       "    .dataframe tbody tr th:only-of-type {\n",
       "        vertical-align: middle;\n",
       "    }\n",
       "\n",
       "    .dataframe tbody tr th {\n",
       "        vertical-align: top;\n",
       "    }\n",
       "\n",
       "    .dataframe thead th {\n",
       "        text-align: right;\n",
       "    }\n",
       "</style>\n",
       "<table border=\"1\" class=\"dataframe\">\n",
       "  <thead>\n",
       "    <tr style=\"text-align: right;\">\n",
       "      <th></th>\n",
       "      <th>SeniorCitizen</th>\n",
       "      <th>Partner</th>\n",
       "      <th>Dependents</th>\n",
       "      <th>tenure</th>\n",
       "      <th>StreamingTV</th>\n",
       "      <th>StreamingMovies</th>\n",
       "      <th>Contract</th>\n",
       "      <th>PaperlessBilling</th>\n",
       "      <th>PaymentMethod</th>\n",
       "      <th>MonthlyCharges</th>\n",
       "      <th>TotalCharges</th>\n",
       "      <th>Churn</th>\n",
       "      <th>TotalService</th>\n",
       "    </tr>\n",
       "  </thead>\n",
       "  <tbody>\n",
       "    <tr>\n",
       "      <th>0</th>\n",
       "      <td>0</td>\n",
       "      <td>Yes</td>\n",
       "      <td>No</td>\n",
       "      <td>1</td>\n",
       "      <td>No</td>\n",
       "      <td>No</td>\n",
       "      <td>Month-to-month</td>\n",
       "      <td>Yes</td>\n",
       "      <td>Electronic check</td>\n",
       "      <td>29.85</td>\n",
       "      <td>29.850000</td>\n",
       "      <td>No</td>\n",
       "      <td>2</td>\n",
       "    </tr>\n",
       "    <tr>\n",
       "      <th>1</th>\n",
       "      <td>0</td>\n",
       "      <td>No</td>\n",
       "      <td>No</td>\n",
       "      <td>34</td>\n",
       "      <td>No</td>\n",
       "      <td>No</td>\n",
       "      <td>One year</td>\n",
       "      <td>No</td>\n",
       "      <td>Mailed check</td>\n",
       "      <td>56.95</td>\n",
       "      <td>1889.500000</td>\n",
       "      <td>No</td>\n",
       "      <td>4</td>\n",
       "    </tr>\n",
       "    <tr>\n",
       "      <th>2</th>\n",
       "      <td>0</td>\n",
       "      <td>No</td>\n",
       "      <td>No</td>\n",
       "      <td>2</td>\n",
       "      <td>No</td>\n",
       "      <td>No</td>\n",
       "      <td>Month-to-month</td>\n",
       "      <td>Yes</td>\n",
       "      <td>Mailed check</td>\n",
       "      <td>53.85</td>\n",
       "      <td>108.150002</td>\n",
       "      <td>Yes</td>\n",
       "      <td>4</td>\n",
       "    </tr>\n",
       "    <tr>\n",
       "      <th>3</th>\n",
       "      <td>0</td>\n",
       "      <td>No</td>\n",
       "      <td>No</td>\n",
       "      <td>45</td>\n",
       "      <td>No</td>\n",
       "      <td>No</td>\n",
       "      <td>One year</td>\n",
       "      <td>No</td>\n",
       "      <td>Bank transfer (automatic)</td>\n",
       "      <td>42.30</td>\n",
       "      <td>1840.750000</td>\n",
       "      <td>No</td>\n",
       "      <td>4</td>\n",
       "    </tr>\n",
       "    <tr>\n",
       "      <th>4</th>\n",
       "      <td>0</td>\n",
       "      <td>No</td>\n",
       "      <td>No</td>\n",
       "      <td>2</td>\n",
       "      <td>No</td>\n",
       "      <td>No</td>\n",
       "      <td>Month-to-month</td>\n",
       "      <td>Yes</td>\n",
       "      <td>Electronic check</td>\n",
       "      <td>70.70</td>\n",
       "      <td>151.649994</td>\n",
       "      <td>Yes</td>\n",
       "      <td>2</td>\n",
       "    </tr>\n",
       "  </tbody>\n",
       "</table>\n",
       "</div>"
      ],
      "text/plain": [
       "   SeniorCitizen Partner Dependents  tenure StreamingTV StreamingMovies  \\\n",
       "0              0     Yes         No       1          No              No   \n",
       "1              0      No         No      34          No              No   \n",
       "2              0      No         No       2          No              No   \n",
       "3              0      No         No      45          No              No   \n",
       "4              0      No         No       2          No              No   \n",
       "\n",
       "         Contract PaperlessBilling              PaymentMethod  MonthlyCharges  \\\n",
       "0  Month-to-month              Yes           Electronic check           29.85   \n",
       "1        One year               No               Mailed check           56.95   \n",
       "2  Month-to-month              Yes               Mailed check           53.85   \n",
       "3        One year               No  Bank transfer (automatic)           42.30   \n",
       "4  Month-to-month              Yes           Electronic check           70.70   \n",
       "\n",
       "   TotalCharges Churn  TotalService  \n",
       "0     29.850000    No             2  \n",
       "1   1889.500000    No             4  \n",
       "2    108.150002   Yes             4  \n",
       "3   1840.750000    No             4  \n",
       "4    151.649994   Yes             2  "
      ]
     },
     "execution_count": 33,
     "metadata": {},
     "output_type": "execute_result"
    }
   ],
   "source": [
    "data_df = data_df.drop('customerID', axis=1)\n",
    "data_df.head(5)"
   ]
  },
  {
   "cell_type": "code",
   "execution_count": 34,
   "id": "116fdb3a-69a3-46b7-a2a0-913ee25db858",
   "metadata": {},
   "outputs": [
    {
     "data": {
      "text/plain": [
       "(7032, 13)"
      ]
     },
     "execution_count": 34,
     "metadata": {},
     "output_type": "execute_result"
    }
   ],
   "source": [
    "data_df.shape"
   ]
  },
  {
   "cell_type": "markdown",
   "id": "JhHnF5SSusN3",
   "metadata": {
    "id": "JhHnF5SSusN3"
   },
   "source": [
    "#### **Converting categorical values to dummy variables**"
   ]
  },
  {
   "cell_type": "code",
   "execution_count": 35,
   "id": "21d4d13b-06de-49c4-844a-c8d0e1af791b",
   "metadata": {},
   "outputs": [
    {
     "data": {
      "text/html": [
       "<div>\n",
       "<style scoped>\n",
       "    .dataframe tbody tr th:only-of-type {\n",
       "        vertical-align: middle;\n",
       "    }\n",
       "\n",
       "    .dataframe tbody tr th {\n",
       "        vertical-align: top;\n",
       "    }\n",
       "\n",
       "    .dataframe thead th {\n",
       "        text-align: right;\n",
       "    }\n",
       "</style>\n",
       "<table border=\"1\" class=\"dataframe\">\n",
       "  <thead>\n",
       "    <tr style=\"text-align: right;\">\n",
       "      <th></th>\n",
       "      <th>Partner</th>\n",
       "      <th>Dependents</th>\n",
       "      <th>PaperlessBilling</th>\n",
       "      <th>Churn</th>\n",
       "      <th>StreamingTV</th>\n",
       "      <th>StreamingMovies</th>\n",
       "      <th>Contract</th>\n",
       "      <th>PaymentMethod</th>\n",
       "      <th>SeniorCitizen</th>\n",
       "    </tr>\n",
       "  </thead>\n",
       "  <tbody>\n",
       "    <tr>\n",
       "      <th>0</th>\n",
       "      <td>Yes</td>\n",
       "      <td>No</td>\n",
       "      <td>Yes</td>\n",
       "      <td>No</td>\n",
       "      <td>No</td>\n",
       "      <td>No</td>\n",
       "      <td>Month-to-month</td>\n",
       "      <td>Electronic check</td>\n",
       "      <td>0</td>\n",
       "    </tr>\n",
       "    <tr>\n",
       "      <th>1</th>\n",
       "      <td>No</td>\n",
       "      <td>No</td>\n",
       "      <td>No</td>\n",
       "      <td>No</td>\n",
       "      <td>No</td>\n",
       "      <td>No</td>\n",
       "      <td>One year</td>\n",
       "      <td>Mailed check</td>\n",
       "      <td>0</td>\n",
       "    </tr>\n",
       "    <tr>\n",
       "      <th>2</th>\n",
       "      <td>No</td>\n",
       "      <td>No</td>\n",
       "      <td>Yes</td>\n",
       "      <td>Yes</td>\n",
       "      <td>No</td>\n",
       "      <td>No</td>\n",
       "      <td>Month-to-month</td>\n",
       "      <td>Mailed check</td>\n",
       "      <td>0</td>\n",
       "    </tr>\n",
       "    <tr>\n",
       "      <th>3</th>\n",
       "      <td>No</td>\n",
       "      <td>No</td>\n",
       "      <td>No</td>\n",
       "      <td>No</td>\n",
       "      <td>No</td>\n",
       "      <td>No</td>\n",
       "      <td>One year</td>\n",
       "      <td>Bank transfer (automatic)</td>\n",
       "      <td>0</td>\n",
       "    </tr>\n",
       "    <tr>\n",
       "      <th>4</th>\n",
       "      <td>No</td>\n",
       "      <td>No</td>\n",
       "      <td>Yes</td>\n",
       "      <td>Yes</td>\n",
       "      <td>No</td>\n",
       "      <td>No</td>\n",
       "      <td>Month-to-month</td>\n",
       "      <td>Electronic check</td>\n",
       "      <td>0</td>\n",
       "    </tr>\n",
       "  </tbody>\n",
       "</table>\n",
       "</div>"
      ],
      "text/plain": [
       "  Partner Dependents PaperlessBilling Churn StreamingTV StreamingMovies  \\\n",
       "0     Yes         No              Yes    No          No              No   \n",
       "1      No         No               No    No          No              No   \n",
       "2      No         No              Yes   Yes          No              No   \n",
       "3      No         No               No    No          No              No   \n",
       "4      No         No              Yes   Yes          No              No   \n",
       "\n",
       "         Contract              PaymentMethod  SeniorCitizen  \n",
       "0  Month-to-month           Electronic check              0  \n",
       "1        One year               Mailed check              0  \n",
       "2  Month-to-month               Mailed check              0  \n",
       "3        One year  Bank transfer (automatic)              0  \n",
       "4  Month-to-month           Electronic check              0  "
      ]
     },
     "execution_count": 35,
     "metadata": {},
     "output_type": "execute_result"
    }
   ],
   "source": [
    "data_df[categorical_names].head()"
   ]
  },
  {
   "cell_type": "code",
   "execution_count": 36,
   "id": "70e6144f-65de-4457-aede-0fe0a6574389",
   "metadata": {},
   "outputs": [],
   "source": [
    "map_values = {\n",
    "    'No' : 0,\n",
    "    'Yes': 1\n",
    "}"
   ]
  },
  {
   "cell_type": "code",
   "execution_count": 37,
   "id": "245e9332-71b4-4c39-a418-5f5af6733b67",
   "metadata": {},
   "outputs": [],
   "source": [
    "data_df['Partner'] = data_df['Partner'].map(map_values)\n",
    "data_df['Dependents'] = data_df['Dependents'].map(map_values)\n",
    "data_df['PaperlessBilling'] = data_df['PaperlessBilling'].map(map_values)\n",
    "data_df['Churn'] = data_df['Churn'].map(map_values)"
   ]
  },
  {
   "cell_type": "code",
   "execution_count": 38,
   "id": "16db7a01-e633-43e5-bb0f-270b510f5933",
   "metadata": {},
   "outputs": [],
   "source": [
    "data_df['StreamingTV'] = data_df['StreamingTV'].map({'No':0, 'Yes':1, 'No internet service':2})\n",
    "data_df['StreamingMovies'] = data_df['StreamingMovies'].map({'No':0, 'Yes':1, 'No internet service':2})\n",
    "data_df['Contract'] = data_df['Contract'].map({'Month-to-month':0, 'One year':1, 'Two year':2})\n",
    "data_df['PaymentMethod'] = data_df['PaymentMethod'].map({'Electronic check':0, 'Mailed check':1, 'Bank transfer (automatic)':2, 'Credit card (automatic)':3})"
   ]
  },
  {
   "cell_type": "code",
   "execution_count": 39,
   "id": "28cc6558-449c-460b-a2c8-052a27fa99fe",
   "metadata": {},
   "outputs": [
    {
     "data": {
      "text/html": [
       "<div>\n",
       "<style scoped>\n",
       "    .dataframe tbody tr th:only-of-type {\n",
       "        vertical-align: middle;\n",
       "    }\n",
       "\n",
       "    .dataframe tbody tr th {\n",
       "        vertical-align: top;\n",
       "    }\n",
       "\n",
       "    .dataframe thead th {\n",
       "        text-align: right;\n",
       "    }\n",
       "</style>\n",
       "<table border=\"1\" class=\"dataframe\">\n",
       "  <thead>\n",
       "    <tr style=\"text-align: right;\">\n",
       "      <th></th>\n",
       "      <th>SeniorCitizen</th>\n",
       "      <th>Partner</th>\n",
       "      <th>Dependents</th>\n",
       "      <th>tenure</th>\n",
       "      <th>StreamingTV</th>\n",
       "      <th>StreamingMovies</th>\n",
       "      <th>Contract</th>\n",
       "      <th>PaperlessBilling</th>\n",
       "      <th>PaymentMethod</th>\n",
       "      <th>MonthlyCharges</th>\n",
       "      <th>TotalCharges</th>\n",
       "      <th>Churn</th>\n",
       "      <th>TotalService</th>\n",
       "    </tr>\n",
       "  </thead>\n",
       "  <tbody>\n",
       "    <tr>\n",
       "      <th>0</th>\n",
       "      <td>0</td>\n",
       "      <td>1</td>\n",
       "      <td>0</td>\n",
       "      <td>1</td>\n",
       "      <td>0</td>\n",
       "      <td>0</td>\n",
       "      <td>0</td>\n",
       "      <td>1</td>\n",
       "      <td>0</td>\n",
       "      <td>29.85</td>\n",
       "      <td>29.850000</td>\n",
       "      <td>0</td>\n",
       "      <td>2</td>\n",
       "    </tr>\n",
       "    <tr>\n",
       "      <th>1</th>\n",
       "      <td>0</td>\n",
       "      <td>0</td>\n",
       "      <td>0</td>\n",
       "      <td>34</td>\n",
       "      <td>0</td>\n",
       "      <td>0</td>\n",
       "      <td>1</td>\n",
       "      <td>0</td>\n",
       "      <td>1</td>\n",
       "      <td>56.95</td>\n",
       "      <td>1889.500000</td>\n",
       "      <td>0</td>\n",
       "      <td>4</td>\n",
       "    </tr>\n",
       "    <tr>\n",
       "      <th>2</th>\n",
       "      <td>0</td>\n",
       "      <td>0</td>\n",
       "      <td>0</td>\n",
       "      <td>2</td>\n",
       "      <td>0</td>\n",
       "      <td>0</td>\n",
       "      <td>0</td>\n",
       "      <td>1</td>\n",
       "      <td>1</td>\n",
       "      <td>53.85</td>\n",
       "      <td>108.150002</td>\n",
       "      <td>1</td>\n",
       "      <td>4</td>\n",
       "    </tr>\n",
       "    <tr>\n",
       "      <th>3</th>\n",
       "      <td>0</td>\n",
       "      <td>0</td>\n",
       "      <td>0</td>\n",
       "      <td>45</td>\n",
       "      <td>0</td>\n",
       "      <td>0</td>\n",
       "      <td>1</td>\n",
       "      <td>0</td>\n",
       "      <td>2</td>\n",
       "      <td>42.30</td>\n",
       "      <td>1840.750000</td>\n",
       "      <td>0</td>\n",
       "      <td>4</td>\n",
       "    </tr>\n",
       "    <tr>\n",
       "      <th>4</th>\n",
       "      <td>0</td>\n",
       "      <td>0</td>\n",
       "      <td>0</td>\n",
       "      <td>2</td>\n",
       "      <td>0</td>\n",
       "      <td>0</td>\n",
       "      <td>0</td>\n",
       "      <td>1</td>\n",
       "      <td>0</td>\n",
       "      <td>70.70</td>\n",
       "      <td>151.649994</td>\n",
       "      <td>1</td>\n",
       "      <td>2</td>\n",
       "    </tr>\n",
       "  </tbody>\n",
       "</table>\n",
       "</div>"
      ],
      "text/plain": [
       "   SeniorCitizen  Partner  Dependents  tenure  StreamingTV  StreamingMovies  \\\n",
       "0              0        1           0       1            0                0   \n",
       "1              0        0           0      34            0                0   \n",
       "2              0        0           0       2            0                0   \n",
       "3              0        0           0      45            0                0   \n",
       "4              0        0           0       2            0                0   \n",
       "\n",
       "   Contract  PaperlessBilling  PaymentMethod  MonthlyCharges  TotalCharges  \\\n",
       "0         0                 1              0           29.85     29.850000   \n",
       "1         1                 0              1           56.95   1889.500000   \n",
       "2         0                 1              1           53.85    108.150002   \n",
       "3         1                 0              2           42.30   1840.750000   \n",
       "4         0                 1              0           70.70    151.649994   \n",
       "\n",
       "   Churn  TotalService  \n",
       "0      0             2  \n",
       "1      0             4  \n",
       "2      1             4  \n",
       "3      0             4  \n",
       "4      1             2  "
      ]
     },
     "execution_count": 39,
     "metadata": {},
     "output_type": "execute_result"
    }
   ],
   "source": [
    "data_df.head(5)"
   ]
  },
  {
   "cell_type": "markdown",
   "id": "d08caf20-1446-42ee-923d-5e99443d4253",
   "metadata": {},
   "source": [
    "#### **Update categorical and non categorical names**"
   ]
  },
  {
   "cell_type": "code",
   "execution_count": 40,
   "id": "48203f1f-5bcc-4601-8ad7-010b6c067d81",
   "metadata": {},
   "outputs": [],
   "source": [
    "column_names = data_df.columns"
   ]
  },
  {
   "cell_type": "code",
   "execution_count": 41,
   "id": "8cb7e405-56eb-466e-a860-adbbc639d685",
   "metadata": {},
   "outputs": [
    {
     "data": {
      "text/plain": [
       "['Partner',\n",
       " 'Dependents',\n",
       " 'PaperlessBilling',\n",
       " 'Churn',\n",
       " 'StreamingTV',\n",
       " 'StreamingMovies',\n",
       " 'Contract',\n",
       " 'PaymentMethod',\n",
       " 'SeniorCitizen']"
      ]
     },
     "execution_count": 41,
     "metadata": {},
     "output_type": "execute_result"
    }
   ],
   "source": [
    "categorical_names"
   ]
  },
  {
   "cell_type": "code",
   "execution_count": 42,
   "id": "59e48ded-2412-49e2-b2fc-ae614c8f936f",
   "metadata": {},
   "outputs": [
    {
     "data": {
      "text/plain": [
       "['TotalCharges', 'tenure', 'TotalService', 'MonthlyCharges']"
      ]
     },
     "execution_count": 42,
     "metadata": {},
     "output_type": "execute_result"
    }
   ],
   "source": [
    "non_categorical_names = set(column_names) - set(categorical_names)\n",
    "non_categorical_names = list(non_categorical_names)\n",
    "non_categorical_names"
   ]
  },
  {
   "cell_type": "markdown",
   "id": "c79fcc76-6659-4278-8627-130dbee34d32",
   "metadata": {},
   "source": [
    "## 2. Data Understanding"
   ]
  },
  {
   "cell_type": "markdown",
   "id": "d189d057-de10-4da3-af46-dfd7e20c8c9d",
   "metadata": {},
   "source": [
    "* After data preparation, we want to review the outliers again."
   ]
  },
  {
   "cell_type": "markdown",
   "id": "1c102497-bacb-4b87-ad08-66a6bd3a4536",
   "metadata": {},
   "source": [
    "#### **Review outliers after data preprocessing**"
   ]
  },
  {
   "cell_type": "code",
   "execution_count": 43,
   "id": "c5a33ea2-c332-4669-a284-eda2d0c05a44",
   "metadata": {},
   "outputs": [
    {
     "data": {
      "text/plain": [
       "<AxesSubplot:>"
      ]
     },
     "execution_count": 43,
     "metadata": {},
     "output_type": "execute_result"
    },
    {
     "data": {
      "image/png": "[encoded data removed]",
      "text/plain": [
       "<Figure size 720x360 with 1 Axes>"
      ]
     },
     "metadata": {
      "needs_background": "light"
     },
     "output_type": "display_data"
    }
   ],
   "source": [
    "fig = plt.figure(figsize=(10,5))\n",
    "ax =plt.gca()\n",
    "pd.DataFrame(scale(data_df[non_categorical_names]),columns=non_categorical_names).boxplot(ax=ax)"
   ]
  },
  {
   "cell_type": "code",
   "execution_count": 44,
   "id": "cef4a804-6d62-4ad8-869c-ec2c6b157aac",
   "metadata": {},
   "outputs": [
    {
     "name": "stderr",
     "output_type": "stream",
     "text": [
      "<ipython-input-44-0e194e4a1731>:3: UserWarning: To output multiple subplots, the figure containing the passed axes is being cleared\n",
      "  data_df[non_categorical_names].hist(ax=ax,bins=20)\n"
     ]
    },
    {
     "data": {
      "text/plain": [
       "array([[<AxesSubplot:title={'center':'TotalCharges'}>,\n",
       "        <AxesSubplot:title={'center':'tenure'}>],\n",
       "       [<AxesSubplot:title={'center':'TotalService'}>,\n",
       "        <AxesSubplot:title={'center':'MonthlyCharges'}>]], dtype=object)"
      ]
     },
     "execution_count": 44,
     "metadata": {},
     "output_type": "execute_result"
    },
    {
     "data": {
      "image/png": "[encoded data removed]",
      "text/plain": [
       "<Figure size 720x360 with 4 Axes>"
      ]
     },
     "metadata": {
      "needs_background": "light"
     },
     "output_type": "display_data"
    }
   ],
   "source": [
    "fig = plt.figure(figsize=(10,5))\n",
    "ax =plt.gca()\n",
    "data_df[non_categorical_names].hist(ax=ax,bins=20)"
   ]
  },
  {
   "cell_type": "markdown",
   "id": "e9b03070-fa22-410d-aac6-bbfc4202a380",
   "metadata": {},
   "source": [
    "## 3. Data preparation"
   ]
  },
  {
   "cell_type": "markdown",
   "id": "fd025eec-1e62-405a-8bdb-afd162b84c1a",
   "metadata": {},
   "source": [
    "* Review if any data will be deleted using quantiles"
   ]
  },
  {
   "cell_type": "markdown",
   "id": "d8883579-20f8-4041-81cc-b003a7e56f6c",
   "metadata": {},
   "source": [
    "#### **Use quartiles to delete outliers**"
   ]
  },
  {
   "cell_type": "code",
   "execution_count": 45,
   "id": "e8b03bcc-65c2-49d8-84f5-999c4a43eecc",
   "metadata": {},
   "outputs": [
    {
     "data": {
      "text/plain": [
       "(7032, 13)"
      ]
     },
     "execution_count": 45,
     "metadata": {},
     "output_type": "execute_result"
    }
   ],
   "source": [
    "def delete_outliers(df, name):\n",
    "    q1 = df[name].quantile(0.25)\n",
    "    q3 = df[name].quantile(0.75)\n",
    "    iqr = q3 - q1\n",
    "    toprange = q3 + iqr * 1.5\n",
    "    botrange = q3 - iqr * 1.5\n",
    "\n",
    "    df = data_df.drop(df[df[name] > toprange].index)\n",
    "    df = data_df.drop(df[df[name] < botrange].index)\n",
    "    \n",
    "    return df\n",
    "\n",
    "for name in non_categorical_names:\n",
    "    data_df = delete_outliers(data_df, name)\n",
    "\n",
    "data_df.shape"
   ]
  },
  {
   "cell_type": "markdown",
   "id": "6f8e4650-c665-417e-baf9-fe7a4661a760",
   "metadata": {},
   "source": [
    "* No data was deleted"
   ]
  },
  {
   "cell_type": "markdown",
   "id": "c1309396-8075-49b4-a40a-953115e8192d",
   "metadata": {
    "id": "c1309396-8075-49b4-a40a-953115e8192d"
   },
   "source": [
    "## 4. Modeling"
   ]
  },
  {
   "cell_type": "code",
   "execution_count": 46,
   "id": "15162317-8589-48a3-a6f2-d37242f5cfbd",
   "metadata": {},
   "outputs": [
    {
     "data": {
      "text/html": [
       "<div>\n",
       "<style scoped>\n",
       "    .dataframe tbody tr th:only-of-type {\n",
       "        vertical-align: middle;\n",
       "    }\n",
       "\n",
       "    .dataframe tbody tr th {\n",
       "        vertical-align: top;\n",
       "    }\n",
       "\n",
       "    .dataframe thead th {\n",
       "        text-align: right;\n",
       "    }\n",
       "</style>\n",
       "<table border=\"1\" class=\"dataframe\">\n",
       "  <thead>\n",
       "    <tr style=\"text-align: right;\">\n",
       "      <th></th>\n",
       "      <th>SeniorCitizen</th>\n",
       "      <th>Partner</th>\n",
       "      <th>Dependents</th>\n",
       "      <th>tenure</th>\n",
       "      <th>StreamingTV</th>\n",
       "      <th>StreamingMovies</th>\n",
       "      <th>Contract</th>\n",
       "      <th>PaperlessBilling</th>\n",
       "      <th>PaymentMethod</th>\n",
       "      <th>MonthlyCharges</th>\n",
       "      <th>TotalCharges</th>\n",
       "      <th>TotalService</th>\n",
       "      <th>Churn</th>\n",
       "    </tr>\n",
       "  </thead>\n",
       "  <tbody>\n",
       "    <tr>\n",
       "      <th>0</th>\n",
       "      <td>0</td>\n",
       "      <td>1</td>\n",
       "      <td>0</td>\n",
       "      <td>1</td>\n",
       "      <td>0</td>\n",
       "      <td>0</td>\n",
       "      <td>0</td>\n",
       "      <td>1</td>\n",
       "      <td>0</td>\n",
       "      <td>29.85</td>\n",
       "      <td>29.850000</td>\n",
       "      <td>2</td>\n",
       "      <td>0</td>\n",
       "    </tr>\n",
       "    <tr>\n",
       "      <th>1</th>\n",
       "      <td>0</td>\n",
       "      <td>0</td>\n",
       "      <td>0</td>\n",
       "      <td>34</td>\n",
       "      <td>0</td>\n",
       "      <td>0</td>\n",
       "      <td>1</td>\n",
       "      <td>0</td>\n",
       "      <td>1</td>\n",
       "      <td>56.95</td>\n",
       "      <td>1889.500000</td>\n",
       "      <td>4</td>\n",
       "      <td>0</td>\n",
       "    </tr>\n",
       "    <tr>\n",
       "      <th>2</th>\n",
       "      <td>0</td>\n",
       "      <td>0</td>\n",
       "      <td>0</td>\n",
       "      <td>2</td>\n",
       "      <td>0</td>\n",
       "      <td>0</td>\n",
       "      <td>0</td>\n",
       "      <td>1</td>\n",
       "      <td>1</td>\n",
       "      <td>53.85</td>\n",
       "      <td>108.150002</td>\n",
       "      <td>4</td>\n",
       "      <td>1</td>\n",
       "    </tr>\n",
       "    <tr>\n",
       "      <th>3</th>\n",
       "      <td>0</td>\n",
       "      <td>0</td>\n",
       "      <td>0</td>\n",
       "      <td>45</td>\n",
       "      <td>0</td>\n",
       "      <td>0</td>\n",
       "      <td>1</td>\n",
       "      <td>0</td>\n",
       "      <td>2</td>\n",
       "      <td>42.30</td>\n",
       "      <td>1840.750000</td>\n",
       "      <td>4</td>\n",
       "      <td>0</td>\n",
       "    </tr>\n",
       "    <tr>\n",
       "      <th>4</th>\n",
       "      <td>0</td>\n",
       "      <td>0</td>\n",
       "      <td>0</td>\n",
       "      <td>2</td>\n",
       "      <td>0</td>\n",
       "      <td>0</td>\n",
       "      <td>0</td>\n",
       "      <td>1</td>\n",
       "      <td>0</td>\n",
       "      <td>70.70</td>\n",
       "      <td>151.649994</td>\n",
       "      <td>2</td>\n",
       "      <td>1</td>\n",
       "    </tr>\n",
       "  </tbody>\n",
       "</table>\n",
       "</div>"
      ],
      "text/plain": [
       "   SeniorCitizen  Partner  Dependents  tenure  StreamingTV  StreamingMovies  \\\n",
       "0              0        1           0       1            0                0   \n",
       "1              0        0           0      34            0                0   \n",
       "2              0        0           0       2            0                0   \n",
       "3              0        0           0      45            0                0   \n",
       "4              0        0           0       2            0                0   \n",
       "\n",
       "   Contract  PaperlessBilling  PaymentMethod  MonthlyCharges  TotalCharges  \\\n",
       "0         0                 1              0           29.85     29.850000   \n",
       "1         1                 0              1           56.95   1889.500000   \n",
       "2         0                 1              1           53.85    108.150002   \n",
       "3         1                 0              2           42.30   1840.750000   \n",
       "4         0                 1              0           70.70    151.649994   \n",
       "\n",
       "   TotalService  Churn  \n",
       "0             2      0  \n",
       "1             4      0  \n",
       "2             4      1  \n",
       "3             4      0  \n",
       "4             2      1  "
      ]
     },
     "execution_count": 46,
     "metadata": {},
     "output_type": "execute_result"
    }
   ],
   "source": [
    "#Move \"Churn\" to be the last column\n",
    "churn_column = data_df.pop('Churn')\n",
    "pos = data_df.shape[1]\n",
    "data_df.insert(pos, 'Churn', churn_column)\n",
    "data_df.head(5)"
   ]
  },
  {
   "cell_type": "markdown",
   "id": "31ea6469-9540-48af-b871-2ed020ca9809",
   "metadata": {},
   "source": [
    "#### **Delete Churn from categorical variables**"
   ]
  },
  {
   "cell_type": "code",
   "execution_count": 47,
   "id": "6c5bab65-cba6-4bda-bcee-62e9c2fc71f6",
   "metadata": {},
   "outputs": [
    {
     "data": {
      "text/plain": [
       "['PaymentMethod',\n",
       " 'Dependents',\n",
       " 'Partner',\n",
       " 'Contract',\n",
       " 'StreamingMovies',\n",
       " 'SeniorCitizen',\n",
       " 'StreamingTV',\n",
       " 'PaperlessBilling']"
      ]
     },
     "execution_count": 47,
     "metadata": {},
     "output_type": "execute_result"
    }
   ],
   "source": [
    "categorical_names = set(categorical_names) - {'Churn'}\n",
    "categorical_names = list(categorical_names)\n",
    "categorical_names"
   ]
  },
  {
   "cell_type": "markdown",
   "id": "cb37af88-29b7-44d8-9c7d-980dc1f93155",
   "metadata": {},
   "source": [
    "### 4.1 Logist regression"
   ]
  },
  {
   "cell_type": "code",
   "execution_count": 48,
   "id": "3de3fcfc-a7c6-4416-9a74-08adc6dc6d19",
   "metadata": {},
   "outputs": [],
   "source": [
    "regularization = 0.001\n",
    "class_weight = \"balanced\"\n",
    "random_state = 10\n",
    "max_iter =1000\n",
    "logmodel = LogisticRegression(C=regularization,class_weight=class_weight,random_state=random_state,max_iter=max_iter)\n",
    "pipe = Pipeline([('feats',FeatureUnion([\n",
    "    ('num_vars',Pipeline([('num_selector',ColumnTransformer([(\"selector\",\"passthrough\",non_categorical_names)],remainder=\"drop\")),('scaler',StandardScaler())])),\n",
    "    ('cat_vars',Pipeline([('cat_selector',ColumnTransformer([(\"selector\",\"passthrough\",categorical_names)],remainder=\"drop\")),('dummy',OneHotEncoder(handle_unknown=\"ignore\"))]))]\n",
    ")),('model', logmodel)])"
   ]
  },
  {
   "cell_type": "code",
   "execution_count": 49,
   "id": "96cda921-b7e1-4f67-b52b-96234dccff1c",
   "metadata": {},
   "outputs": [],
   "source": [
    "X_train, X_test, y_train, y_test = train_test_split(data_df.iloc[:,:-1], data_df.iloc[:,-1],test_size=0.25)"
   ]
  },
  {
   "cell_type": "markdown",
   "id": "3b5a36f4-dd74-48d0-b29c-1b9a91cb2224",
   "metadata": {},
   "source": [
    "#### **Train model**"
   ]
  },
  {
   "cell_type": "code",
   "execution_count": 50,
   "id": "85f9f8d9-d0ab-4401-a746-a0429d53d346",
   "metadata": {},
   "outputs": [
    {
     "data": {
      "text/plain": [
       "Pipeline(steps=[('feats',\n",
       "                 FeatureUnion(transformer_list=[('num_vars',\n",
       "                                                 Pipeline(steps=[('num_selector',\n",
       "                                                                  ColumnTransformer(transformers=[('selector',\n",
       "                                                                                                   'passthrough',\n",
       "                                                                                                   ['TotalCharges',\n",
       "                                                                                                    'tenure',\n",
       "                                                                                                    'TotalService',\n",
       "                                                                                                    'MonthlyCharges'])])),\n",
       "                                                                 ('scaler',\n",
       "                                                                  StandardScaler())])),\n",
       "                                                ('cat_vars',\n",
       "                                                 Pipeline(steps=[('cat_selector',\n",
       "                                                                  ColumnTransformer(transformers=[('selector',\n",
       "                                                                                                   'passthrough',\n",
       "                                                                                                   ['PaymentMethod',\n",
       "                                                                                                    'Dependents',\n",
       "                                                                                                    'Partner',\n",
       "                                                                                                    'Contract',\n",
       "                                                                                                    'StreamingMovies',\n",
       "                                                                                                    'SeniorCitizen',\n",
       "                                                                                                    'StreamingTV',\n",
       "                                                                                                    'PaperlessBilling'])])),\n",
       "                                                                 ('dummy',\n",
       "                                                                  OneHotEncoder(handle_unknown='ignore'))]))])),\n",
       "                ('model',\n",
       "                 LogisticRegression(C=0.001, class_weight='balanced',\n",
       "                                    max_iter=1000, random_state=10))])"
      ]
     },
     "execution_count": 50,
     "metadata": {},
     "output_type": "execute_result"
    }
   ],
   "source": [
    "pipe.fit(X_train,y_train)"
   ]
  },
  {
   "cell_type": "markdown",
   "id": "556a7c8d-b524-4e7d-9e40-1bd7c5fe37a2",
   "metadata": {},
   "source": [
    "#### **Predict test set**"
   ]
  },
  {
   "cell_type": "code",
   "execution_count": 51,
   "id": "7fbe78a5-be48-4ba1-9be5-8ce29c2440ce",
   "metadata": {},
   "outputs": [],
   "source": [
    "y_pred = pipe.predict(X_test)"
   ]
  },
  {
   "cell_type": "markdown",
   "id": "b1cb68c0-567f-4f5d-befd-f26ac7c3a121",
   "metadata": {},
   "source": [
    "### 4.2 Neural networks"
   ]
  },
  {
   "cell_type": "code",
   "execution_count": 52,
   "id": "19fdf544-4a95-4380-8195-5a121ff438f4",
   "metadata": {},
   "outputs": [],
   "source": [
    "X_train_nn, X_test_nn, y_train_nn, y_test_nn = train_test_split(data_df.iloc[:,:-1], data_df.iloc[:,-1],test_size=0.25)"
   ]
  },
  {
   "cell_type": "code",
   "execution_count": 53,
   "id": "c31d4b3f-05d3-4b75-af82-9a64d10b24ac",
   "metadata": {},
   "outputs": [],
   "source": [
    "mlp = MLPClassifier(hidden_layer_sizes=(64,64,64,64),activation=\"relu\",random_state=1, max_iter = 1000).fit(X_train_nn, y_train_nn)\n",
    "y_pred_train_nn = mlp.predict(X_train_nn)"
   ]
  },
  {
   "cell_type": "markdown",
   "id": "2073a88a-d4f5-4f34-800c-93399c8cda91",
   "metadata": {
    "id": "2073a88a-d4f5-4f34-800c-93399c8cda91"
   },
   "source": [
    "## 5. Evaluation"
   ]
  },
  {
   "cell_type": "markdown",
   "id": "aafae749-8052-46e2-b5be-3af102b82b14",
   "metadata": {},
   "source": [
    "### 5.1 Logist Regression"
   ]
  },
  {
   "cell_type": "markdown",
   "id": "32444afa-e24c-49ee-913c-84f2b2b2548e",
   "metadata": {},
   "source": [
    "### 5.1.1 Accuracy score"
   ]
  },
  {
   "cell_type": "code",
   "execution_count": 54,
   "id": "c1fe6f37-b4e0-4468-b6b5-9f15c1439275",
   "metadata": {},
   "outputs": [
    {
     "data": {
      "text/plain": [
       "0.7406143344709898"
      ]
     },
     "execution_count": 54,
     "metadata": {},
     "output_type": "execute_result"
    }
   ],
   "source": [
    "accuracy_score(y_test, y_pred)"
   ]
  },
  {
   "cell_type": "markdown",
   "id": "3c2d8660-a5b9-4b46-a6b6-26433056f2ca",
   "metadata": {},
   "source": [
    "### 5.1.2 Classification report"
   ]
  },
  {
   "cell_type": "code",
   "execution_count": 55,
   "id": "0f7e7463-5fcf-4994-95f8-9c355c851344",
   "metadata": {},
   "outputs": [
    {
     "name": "stdout",
     "output_type": "stream",
     "text": [
      "              precision    recall  f1-score   support\n",
      "\n",
      "           0       0.92      0.72      0.81      1319\n",
      "           1       0.49      0.80      0.61       439\n",
      "\n",
      "    accuracy                           0.74      1758\n",
      "   macro avg       0.70      0.76      0.71      1758\n",
      "weighted avg       0.81      0.74      0.76      1758\n",
      "\n"
     ]
    }
   ],
   "source": [
    "print(classification_report(y_test,y_pred))"
   ]
  },
  {
   "cell_type": "markdown",
   "id": "cf86fb46-fa37-4c1e-b432-1fb1d4dee1c8",
   "metadata": {},
   "source": [
    "### 5.1.3 Plot results"
   ]
  },
  {
   "cell_type": "code",
   "execution_count": 56,
   "id": "0abca805-4c7f-46d7-91eb-3da381adba0f",
   "metadata": {},
   "outputs": [],
   "source": [
    "cm = confusion_matrix(y_pred,y_test)"
   ]
  },
  {
   "cell_type": "code",
   "execution_count": 57,
   "id": "c31b8596-2418-4b2e-bfc4-24f1351c2271",
   "metadata": {},
   "outputs": [
    {
     "data": {
      "text/plain": [
       "<AxesSubplot:>"
      ]
     },
     "execution_count": 57,
     "metadata": {},
     "output_type": "execute_result"
    },
    {
     "data": {
      "image/png": "[encoded data removed]",
      "text/plain": [
       "<Figure size 432x288 with 2 Axes>"
      ]
     },
     "metadata": {
      "needs_background": "light"
     },
     "output_type": "display_data"
    }
   ],
   "source": [
    "sns.heatmap(cm/np.sum(cm),annot=True,fmt='.2%',cmap=\"Blues\")"
   ]
  },
  {
   "cell_type": "markdown",
   "id": "c973e64a-f04c-4a3a-b712-e22d9604820b",
   "metadata": {},
   "source": [
    "* With logistic regression, we get an accuracy score of 0.74, and it has higher precision for the customers that stay."
   ]
  },
  {
   "cell_type": "markdown",
   "id": "de18ad4c-1711-498a-b8fe-4a23e95cff10",
   "metadata": {},
   "source": [
    "### 5.2 Neural Networks"
   ]
  },
  {
   "cell_type": "markdown",
   "id": "479df703-65a9-4103-98e0-faab0ff1f2d2",
   "metadata": {},
   "source": [
    "### 5.2.1 Accuracy"
   ]
  },
  {
   "cell_type": "code",
   "execution_count": 62,
   "id": "3356653a-9141-4979-8ff1-3169c0aaf693",
   "metadata": {},
   "outputs": [
    {
     "name": "stdout",
     "output_type": "stream",
     "text": [
      "Train accuracy:  0.7781569965870307\n",
      "Test accuracy:  0.7946530147895335\n"
     ]
    }
   ],
   "source": [
    "print('Train accuracy: ', mlp.score(X_train_nn, y_train_nn))\n",
    "y_pred_nn=mlp.predict(X_test_nn)\n",
    "print('Test accuracy: ', mlp.score(X_test_nn, y_test_nn))"
   ]
  },
  {
   "cell_type": "markdown",
   "id": "34dce5e3-097b-4b54-ae6c-2b0d25832825",
   "metadata": {},
   "source": [
    "### 5.2.1 Classification report"
   ]
  },
  {
   "cell_type": "code",
   "execution_count": 63,
   "id": "7fd3f396-1266-435d-9c21-cf07904cb17f",
   "metadata": {},
   "outputs": [
    {
     "name": "stdout",
     "output_type": "stream",
     "text": [
      "              precision    recall  f1-score   support\n",
      "\n",
      "           0       0.81      0.95      0.87      1309\n",
      "           1       0.70      0.34      0.46       449\n",
      "\n",
      "    accuracy                           0.79      1758\n",
      "   macro avg       0.75      0.65      0.67      1758\n",
      "weighted avg       0.78      0.79      0.77      1758\n",
      "\n"
     ]
    }
   ],
   "source": [
    "print(classification_report(y_test_nn, y_pred_nn))"
   ]
  },
  {
   "cell_type": "markdown",
   "id": "23d7fb63-9bce-485f-bbdb-c5846c3179c6",
   "metadata": {},
   "source": [
    "### 5.2.3 Plot results"
   ]
  },
  {
   "cell_type": "code",
   "execution_count": 64,
   "id": "fc492bd5-307e-4e2b-a4e1-dababe24cb7c",
   "metadata": {},
   "outputs": [],
   "source": [
    "cm2 = confusion_matrix(y_pred_nn,y_test_nn)"
   ]
  },
  {
   "cell_type": "code",
   "execution_count": 65,
   "id": "66953a34-f2ef-4be0-922d-629bd7fd5ad9",
   "metadata": {},
   "outputs": [
    {
     "data": {
      "text/plain": [
       "<AxesSubplot:>"
      ]
     },
     "execution_count": 65,
     "metadata": {},
     "output_type": "execute_result"
    },
    {
     "data": {
      "image/png": "[encoded data removed]",
      "text/plain": [
       "<Figure size 432x288 with 2 Axes>"
      ]
     },
     "metadata": {
      "needs_background": "light"
     },
     "output_type": "display_data"
    }
   ],
   "source": [
    "sns.heatmap(cm2/np.sum(cm2),annot=True,fmt='.2%',cmap=\"Blues\")"
   ]
  },
  {
   "cell_type": "markdown",
   "id": "2c918570-daf7-4e96-8d72-51e67f89dee7",
   "metadata": {},
   "source": [
    "* With Neural Network we are able to get a better accuracy of 0.79. Also the precision for no churn customers have improved."
   ]
  },
  {
   "cell_type": "code",
   "execution_count": null,
   "id": "89a9c5bb-c51d-4f54-bd85-898f3b118a02",
   "metadata": {},
   "outputs": [],
   "source": []
  }
 ],
 "metadata": {
  "colab": {
   "name": "Proyecto.ipynb",
   "provenance": [],
   "toc_visible": true
  },
  "kernelspec": {
   "display_name": "Python 3",
   "language": "python",
   "name": "python3"
  },
  "language_info": {
   "codemirror_mode": {
    "name": "ipython",
    "version": 3
   },
   "file_extension": ".py",
   "mimetype": "text/x-python",
   "name": "python",
   "nbconvert_exporter": "python",
   "pygments_lexer": "ipython3",
   "version": "3.8.8"
  }
 },
 "nbformat": 4,
 "nbformat_minor": 5
}
